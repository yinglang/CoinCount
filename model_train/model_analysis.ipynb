{
 "cells": [
  {
   "cell_type": "code",
   "execution_count": 2,
   "metadata": {
    "ExecuteTime": {
     "end_time": "2017-12-16T10:30:16.428064Z",
     "start_time": "2017-12-16T10:30:09.844102Z"
    },
    "collapsed": true
   },
   "outputs": [],
   "source": [
    "import mxnet as mx\n",
    "from mxnet import gluon, nd\n",
    "from mxnet.gluon import model_zoo\n",
    "\n",
    "ctx=mx.cpu(0)\n",
    "\n",
    "data = nd.random.uniform(shape=(1, 3, 256, 256)).as_in_context(ctx)\n",
    "def solve_data(x, net):\n",
    "    for i, block in enumerate(net):\n",
    "        x = block(x)\n",
    "        print i, x.shape, type(block)"
   ]
  },
  {
   "cell_type": "markdown",
   "metadata": {},
   "source": [
    "## 1. Alexnet"
   ]
  },
  {
   "cell_type": "code",
   "execution_count": 5,
   "metadata": {
    "ExecuteTime": {
     "end_time": "2017-12-14T09:00:57.841277Z",
     "start_time": "2017-12-14T09:00:57.517289Z"
    }
   },
   "outputs": [
    {
     "name": "stdout",
     "output_type": "stream",
     "text": [
      "0 (1L, 64L, 55L, 55L) <class 'mxnet.gluon.nn.conv_layers.Conv2D'>\n",
      "1 (1L, 64L, 27L, 27L) <class 'mxnet.gluon.nn.conv_layers.MaxPool2D'>\n",
      "2 (1L, 192L, 27L, 27L) <class 'mxnet.gluon.nn.conv_layers.Conv2D'>\n",
      "3 (1L, 192L, 13L, 13L) <class 'mxnet.gluon.nn.conv_layers.MaxPool2D'>\n",
      "4 (1L, 384L, 13L, 13L) <class 'mxnet.gluon.nn.conv_layers.Conv2D'>\n",
      "5 (1L, 256L, 13L, 13L) <class 'mxnet.gluon.nn.conv_layers.Conv2D'>\n",
      "6 (1L, 256L, 13L, 13L) <class 'mxnet.gluon.nn.conv_layers.Conv2D'>\n",
      "7 (1L, 256L, 6L, 6L) <class 'mxnet.gluon.nn.conv_layers.MaxPool2D'>\n",
      "8 (1L, 9216L) <class 'mxnet.gluon.nn.basic_layers.Flatten'>\n"
     ]
    }
   ],
   "source": [
    "net = model_zoo.vision.alexnet(pretrained=True, ctx=ctx)\n",
    "data = nd.random.uniform(shape=(1, 3, 224, 224)).as_in_context(ctx)\n",
    "solve_data(data, net.features[:])"
   ]
  },
  {
   "cell_type": "markdown",
   "metadata": {},
   "source": [
    "## VGG"
   ]
  },
  {
   "cell_type": "code",
   "execution_count": 3,
   "metadata": {
    "ExecuteTime": {
     "end_time": "2017-12-16T10:30:20.259323Z",
     "start_time": "2017-12-16T10:30:16.431868Z"
    }
   },
   "outputs": [
    {
     "name": "stdout",
     "output_type": "stream",
     "text": [
      "0 (1L, 64L, 256L, 256L) <class 'mxnet.gluon.nn.conv_layers.Conv2D'>\n",
      "1 (1L, 64L, 256L, 256L) <class 'mxnet.gluon.nn.basic_layers.BatchNorm'>\n",
      "2 (1L, 64L, 256L, 256L) <class 'mxnet.gluon.nn.basic_layers.Activation'>\n",
      "3 (1L, 64L, 128L, 128L) <class 'mxnet.gluon.nn.conv_layers.MaxPool2D'>\n",
      "4 (1L, 128L, 128L, 128L) <class 'mxnet.gluon.nn.conv_layers.Conv2D'>\n",
      "5 (1L, 128L, 128L, 128L) <class 'mxnet.gluon.nn.basic_layers.BatchNorm'>\n",
      "6 (1L, 128L, 128L, 128L) <class 'mxnet.gluon.nn.basic_layers.Activation'>\n",
      "7 (1L, 128L, 64L, 64L) <class 'mxnet.gluon.nn.conv_layers.MaxPool2D'>\n",
      "8 (1L, 256L, 64L, 64L) <class 'mxnet.gluon.nn.conv_layers.Conv2D'>\n",
      "9 (1L, 256L, 64L, 64L) <class 'mxnet.gluon.nn.basic_layers.BatchNorm'>\n",
      "10 (1L, 256L, 64L, 64L) <class 'mxnet.gluon.nn.basic_layers.Activation'>\n",
      "11 (1L, 256L, 64L, 64L) <class 'mxnet.gluon.nn.conv_layers.Conv2D'>\n",
      "12 (1L, 256L, 64L, 64L) <class 'mxnet.gluon.nn.basic_layers.BatchNorm'>\n",
      "13 (1L, 256L, 64L, 64L) <class 'mxnet.gluon.nn.basic_layers.Activation'>\n",
      "14 (1L, 256L, 32L, 32L) <class 'mxnet.gluon.nn.conv_layers.MaxPool2D'>\n",
      "15 (1L, 512L, 32L, 32L) <class 'mxnet.gluon.nn.conv_layers.Conv2D'>\n",
      "16 (1L, 512L, 32L, 32L) <class 'mxnet.gluon.nn.basic_layers.BatchNorm'>\n",
      "17 (1L, 512L, 32L, 32L) <class 'mxnet.gluon.nn.basic_layers.Activation'>\n",
      "18 (1L, 512L, 32L, 32L) <class 'mxnet.gluon.nn.conv_layers.Conv2D'>\n",
      "19 (1L, 512L, 32L, 32L) <class 'mxnet.gluon.nn.basic_layers.BatchNorm'>\n",
      "20 (1L, 512L, 32L, 32L) <class 'mxnet.gluon.nn.basic_layers.Activation'>\n",
      "21 (1L, 512L, 16L, 16L) <class 'mxnet.gluon.nn.conv_layers.MaxPool2D'>\n",
      "22 (1L, 512L, 16L, 16L) <class 'mxnet.gluon.nn.conv_layers.Conv2D'>\n",
      "23 (1L, 512L, 16L, 16L) <class 'mxnet.gluon.nn.basic_layers.BatchNorm'>\n",
      "24 (1L, 512L, 16L, 16L) <class 'mxnet.gluon.nn.basic_layers.Activation'>\n",
      "25 (1L, 512L, 16L, 16L) <class 'mxnet.gluon.nn.conv_layers.Conv2D'>\n",
      "26 (1L, 512L, 16L, 16L) <class 'mxnet.gluon.nn.basic_layers.BatchNorm'>\n",
      "27 (1L, 512L, 16L, 16L) <class 'mxnet.gluon.nn.basic_layers.Activation'>\n",
      "28 (1L, 512L, 8L, 8L) <class 'mxnet.gluon.nn.conv_layers.MaxPool2D'>\n"
     ]
    }
   ],
   "source": [
    "net = model_zoo.vision.vgg11_bn(pretrained=True, ctx=ctx)\n",
    "data = nd.random.uniform(shape=(1, 3, 256, 256)).as_in_context(ctx)\n",
    "solve_data(data, net.features[:])"
   ]
  },
  {
   "cell_type": "code",
   "execution_count": 11,
   "metadata": {
    "ExecuteTime": {
     "end_time": "2017-12-14T12:29:50.572071Z",
     "start_time": "2017-12-14T12:19:35.465663Z"
    }
   },
   "outputs": [
    {
     "name": "stdout",
     "output_type": "stream",
     "text": [
      "Model file is not found. Downloading.\n",
      "Downloading /home/hui/.mxnet/models/vgg13_bn-7d97a06c.zip from https://apache-mxnet.s3-accelerate.dualstack.amazonaws.com/gluon/models/vgg13_bn-7d97a06c.zip...\n",
      "0 (1L, 64L, 256L, 256L) <class 'mxnet.gluon.nn.conv_layers.Conv2D'>\n",
      "1 (1L, 64L, 256L, 256L) <class 'mxnet.gluon.nn.basic_layers.BatchNorm'>\n",
      "2 (1L, 64L, 256L, 256L) <class 'mxnet.gluon.nn.basic_layers.Activation'>\n",
      "3 (1L, 64L, 256L, 256L) <class 'mxnet.gluon.nn.conv_layers.Conv2D'>\n",
      "4 (1L, 64L, 256L, 256L) <class 'mxnet.gluon.nn.basic_layers.BatchNorm'>\n",
      "5 (1L, 64L, 256L, 256L) <class 'mxnet.gluon.nn.basic_layers.Activation'>\n",
      "6 (1L, 64L, 128L, 128L) <class 'mxnet.gluon.nn.conv_layers.MaxPool2D'>\n",
      "7 (1L, 128L, 128L, 128L) <class 'mxnet.gluon.nn.conv_layers.Conv2D'>\n",
      "8 (1L, 128L, 128L, 128L) <class 'mxnet.gluon.nn.basic_layers.BatchNorm'>\n",
      "9 (1L, 128L, 128L, 128L) <class 'mxnet.gluon.nn.basic_layers.Activation'>\n",
      "10 (1L, 128L, 128L, 128L) <class 'mxnet.gluon.nn.conv_layers.Conv2D'>\n",
      "11 (1L, 128L, 128L, 128L) <class 'mxnet.gluon.nn.basic_layers.BatchNorm'>\n",
      "12 (1L, 128L, 128L, 128L) <class 'mxnet.gluon.nn.basic_layers.Activation'>\n",
      "13 (1L, 128L, 64L, 64L) <class 'mxnet.gluon.nn.conv_layers.MaxPool2D'>\n",
      "14 (1L, 256L, 64L, 64L) <class 'mxnet.gluon.nn.conv_layers.Conv2D'>\n",
      "15 (1L, 256L, 64L, 64L) <class 'mxnet.gluon.nn.basic_layers.BatchNorm'>\n",
      "16 (1L, 256L, 64L, 64L) <class 'mxnet.gluon.nn.basic_layers.Activation'>\n",
      "17 (1L, 256L, 64L, 64L) <class 'mxnet.gluon.nn.conv_layers.Conv2D'>\n",
      "18 (1L, 256L, 64L, 64L) <class 'mxnet.gluon.nn.basic_layers.BatchNorm'>\n",
      "19 (1L, 256L, 64L, 64L) <class 'mxnet.gluon.nn.basic_layers.Activation'>\n",
      "20 (1L, 256L, 32L, 32L) <class 'mxnet.gluon.nn.conv_layers.MaxPool2D'>\n",
      "21 (1L, 512L, 32L, 32L) <class 'mxnet.gluon.nn.conv_layers.Conv2D'>\n",
      "22 (1L, 512L, 32L, 32L) <class 'mxnet.gluon.nn.basic_layers.BatchNorm'>\n",
      "23 (1L, 512L, 32L, 32L) <class 'mxnet.gluon.nn.basic_layers.Activation'>\n",
      "24 (1L, 512L, 32L, 32L) <class 'mxnet.gluon.nn.conv_layers.Conv2D'>\n",
      "25 (1L, 512L, 32L, 32L) <class 'mxnet.gluon.nn.basic_layers.BatchNorm'>\n",
      "26 (1L, 512L, 32L, 32L) <class 'mxnet.gluon.nn.basic_layers.Activation'>\n",
      "27 (1L, 512L, 16L, 16L) <class 'mxnet.gluon.nn.conv_layers.MaxPool2D'>\n",
      "28 (1L, 512L, 16L, 16L) <class 'mxnet.gluon.nn.conv_layers.Conv2D'>\n",
      "29 (1L, 512L, 16L, 16L) <class 'mxnet.gluon.nn.basic_layers.BatchNorm'>\n",
      "30 (1L, 512L, 16L, 16L) <class 'mxnet.gluon.nn.basic_layers.Activation'>\n",
      "31 (1L, 512L, 16L, 16L) <class 'mxnet.gluon.nn.conv_layers.Conv2D'>\n",
      "32 (1L, 512L, 16L, 16L) <class 'mxnet.gluon.nn.basic_layers.BatchNorm'>\n",
      "33 (1L, 512L, 16L, 16L) <class 'mxnet.gluon.nn.basic_layers.Activation'>\n",
      "34 (1L, 512L, 8L, 8L) <class 'mxnet.gluon.nn.conv_layers.MaxPool2D'>\n"
     ]
    }
   ],
   "source": [
    "net = model_zoo.vision.vgg13_bn(pretrained=True, ctx=ctx)\n",
    "data = nd.random.uniform(shape=(1, 3, 256, 256)).as_in_context(ctx)\n",
    "solve_data(data, net.features[:])"
   ]
  },
  {
   "cell_type": "code",
   "execution_count": 9,
   "metadata": {
    "ExecuteTime": {
     "end_time": "2017-12-14T12:05:25.066006Z",
     "start_time": "2017-12-14T11:54:13.815027Z"
    }
   },
   "outputs": [
    {
     "name": "stdout",
     "output_type": "stream",
     "text": [
      "Model file is not found. Downloading.\n",
      "Downloading /home/hui/.mxnet/models/vgg16_bn-6b9dbe61.zip from https://apache-mxnet.s3-accelerate.dualstack.amazonaws.com/gluon/models/vgg16_bn-6b9dbe61.zip...\n",
      "0 (1L, 64L, 256L, 256L) <class 'mxnet.gluon.nn.conv_layers.Conv2D'>\n",
      "1 (1L, 64L, 256L, 256L) <class 'mxnet.gluon.nn.basic_layers.BatchNorm'>\n",
      "2 (1L, 64L, 256L, 256L) <class 'mxnet.gluon.nn.basic_layers.Activation'>\n",
      "3 (1L, 64L, 256L, 256L) <class 'mxnet.gluon.nn.conv_layers.Conv2D'>\n",
      "4 (1L, 64L, 256L, 256L) <class 'mxnet.gluon.nn.basic_layers.BatchNorm'>\n",
      "5 (1L, 64L, 256L, 256L) <class 'mxnet.gluon.nn.basic_layers.Activation'>\n",
      "6 (1L, 64L, 128L, 128L) <class 'mxnet.gluon.nn.conv_layers.MaxPool2D'>\n",
      "7 (1L, 128L, 128L, 128L) <class 'mxnet.gluon.nn.conv_layers.Conv2D'>\n",
      "8 (1L, 128L, 128L, 128L) <class 'mxnet.gluon.nn.basic_layers.BatchNorm'>\n",
      "9 (1L, 128L, 128L, 128L) <class 'mxnet.gluon.nn.basic_layers.Activation'>\n",
      "10 (1L, 128L, 128L, 128L) <class 'mxnet.gluon.nn.conv_layers.Conv2D'>\n",
      "11 (1L, 128L, 128L, 128L) <class 'mxnet.gluon.nn.basic_layers.BatchNorm'>\n",
      "12 (1L, 128L, 128L, 128L) <class 'mxnet.gluon.nn.basic_layers.Activation'>\n",
      "13 (1L, 128L, 64L, 64L) <class 'mxnet.gluon.nn.conv_layers.MaxPool2D'>\n",
      "14 (1L, 256L, 64L, 64L) <class 'mxnet.gluon.nn.conv_layers.Conv2D'>\n",
      "15 (1L, 256L, 64L, 64L) <class 'mxnet.gluon.nn.basic_layers.BatchNorm'>\n",
      "16 (1L, 256L, 64L, 64L) <class 'mxnet.gluon.nn.basic_layers.Activation'>\n",
      "17 (1L, 256L, 64L, 64L) <class 'mxnet.gluon.nn.conv_layers.Conv2D'>\n",
      "18 (1L, 256L, 64L, 64L) <class 'mxnet.gluon.nn.basic_layers.BatchNorm'>\n",
      "19 (1L, 256L, 64L, 64L) <class 'mxnet.gluon.nn.basic_layers.Activation'>\n",
      "20 (1L, 256L, 64L, 64L) <class 'mxnet.gluon.nn.conv_layers.Conv2D'>\n",
      "21 (1L, 256L, 64L, 64L) <class 'mxnet.gluon.nn.basic_layers.BatchNorm'>\n",
      "22 (1L, 256L, 64L, 64L) <class 'mxnet.gluon.nn.basic_layers.Activation'>\n",
      "23 (1L, 256L, 32L, 32L) <class 'mxnet.gluon.nn.conv_layers.MaxPool2D'>\n",
      "24 (1L, 512L, 32L, 32L) <class 'mxnet.gluon.nn.conv_layers.Conv2D'>\n",
      "25 (1L, 512L, 32L, 32L) <class 'mxnet.gluon.nn.basic_layers.BatchNorm'>\n",
      "26 (1L, 512L, 32L, 32L) <class 'mxnet.gluon.nn.basic_layers.Activation'>\n",
      "27 (1L, 512L, 32L, 32L) <class 'mxnet.gluon.nn.conv_layers.Conv2D'>\n",
      "28 (1L, 512L, 32L, 32L) <class 'mxnet.gluon.nn.basic_layers.BatchNorm'>\n",
      "29 (1L, 512L, 32L, 32L) <class 'mxnet.gluon.nn.basic_layers.Activation'>\n",
      "30 (1L, 512L, 32L, 32L) <class 'mxnet.gluon.nn.conv_layers.Conv2D'>\n",
      "31 (1L, 512L, 32L, 32L) <class 'mxnet.gluon.nn.basic_layers.BatchNorm'>\n",
      "32 (1L, 512L, 32L, 32L) <class 'mxnet.gluon.nn.basic_layers.Activation'>\n",
      "33 (1L, 512L, 16L, 16L) <class 'mxnet.gluon.nn.conv_layers.MaxPool2D'>\n",
      "34 (1L, 512L, 16L, 16L) <class 'mxnet.gluon.nn.conv_layers.Conv2D'>\n",
      "35 (1L, 512L, 16L, 16L) <class 'mxnet.gluon.nn.basic_layers.BatchNorm'>\n",
      "36 (1L, 512L, 16L, 16L) <class 'mxnet.gluon.nn.basic_layers.Activation'>\n",
      "37 (1L, 512L, 16L, 16L) <class 'mxnet.gluon.nn.conv_layers.Conv2D'>\n",
      "38 (1L, 512L, 16L, 16L) <class 'mxnet.gluon.nn.basic_layers.BatchNorm'>\n",
      "39 (1L, 512L, 16L, 16L) <class 'mxnet.gluon.nn.basic_layers.Activation'>\n",
      "40 (1L, 512L, 16L, 16L) <class 'mxnet.gluon.nn.conv_layers.Conv2D'>\n",
      "41 (1L, 512L, 16L, 16L) <class 'mxnet.gluon.nn.basic_layers.BatchNorm'>\n",
      "42 (1L, 512L, 16L, 16L) <class 'mxnet.gluon.nn.basic_layers.Activation'>\n",
      "43 (1L, 512L, 8L, 8L) <class 'mxnet.gluon.nn.conv_layers.MaxPool2D'>\n"
     ]
    }
   ],
   "source": [
    "net = model_zoo.vision.vgg16_bn(pretrained=True, ctx=ctx)\n",
    "data = nd.random.uniform(shape=(1, 3, 256, 256)).as_in_context(ctx)\n",
    "solve_data(data, net.features[:])"
   ]
  },
  {
   "cell_type": "code",
   "execution_count": 12,
   "metadata": {
    "ExecuteTime": {
     "end_time": "2017-12-14T12:29:56.049622Z",
     "start_time": "2017-12-14T12:29:50.575545Z"
    }
   },
   "outputs": [
    {
     "name": "stdout",
     "output_type": "stream",
     "text": [
      "0 (1L, 64L, 256L, 256L) <class 'mxnet.gluon.nn.conv_layers.Conv2D'>\n",
      "1 (1L, 64L, 256L, 256L) <class 'mxnet.gluon.nn.basic_layers.BatchNorm'>\n",
      "2 (1L, 64L, 256L, 256L) <class 'mxnet.gluon.nn.basic_layers.Activation'>\n",
      "3 (1L, 64L, 256L, 256L) <class 'mxnet.gluon.nn.conv_layers.Conv2D'>\n",
      "4 (1L, 64L, 256L, 256L) <class 'mxnet.gluon.nn.basic_layers.BatchNorm'>\n",
      "5 (1L, 64L, 256L, 256L) <class 'mxnet.gluon.nn.basic_layers.Activation'>\n",
      "6 (1L, 64L, 128L, 128L) <class 'mxnet.gluon.nn.conv_layers.MaxPool2D'>\n",
      "7 (1L, 128L, 128L, 128L) <class 'mxnet.gluon.nn.conv_layers.Conv2D'>\n",
      "8 (1L, 128L, 128L, 128L) <class 'mxnet.gluon.nn.basic_layers.BatchNorm'>\n",
      "9 (1L, 128L, 128L, 128L) <class 'mxnet.gluon.nn.basic_layers.Activation'>\n",
      "10 (1L, 128L, 128L, 128L) <class 'mxnet.gluon.nn.conv_layers.Conv2D'>\n",
      "11 (1L, 128L, 128L, 128L) <class 'mxnet.gluon.nn.basic_layers.BatchNorm'>\n",
      "12 (1L, 128L, 128L, 128L) <class 'mxnet.gluon.nn.basic_layers.Activation'>\n",
      "13 (1L, 128L, 64L, 64L) <class 'mxnet.gluon.nn.conv_layers.MaxPool2D'>\n",
      "14 (1L, 256L, 64L, 64L) <class 'mxnet.gluon.nn.conv_layers.Conv2D'>\n",
      "15 (1L, 256L, 64L, 64L) <class 'mxnet.gluon.nn.basic_layers.BatchNorm'>\n",
      "16 (1L, 256L, 64L, 64L) <class 'mxnet.gluon.nn.basic_layers.Activation'>\n",
      "17 (1L, 256L, 64L, 64L) <class 'mxnet.gluon.nn.conv_layers.Conv2D'>\n",
      "18 (1L, 256L, 64L, 64L) <class 'mxnet.gluon.nn.basic_layers.BatchNorm'>\n",
      "19 (1L, 256L, 64L, 64L) <class 'mxnet.gluon.nn.basic_layers.Activation'>\n",
      "20 (1L, 256L, 64L, 64L) <class 'mxnet.gluon.nn.conv_layers.Conv2D'>\n",
      "21 (1L, 256L, 64L, 64L) <class 'mxnet.gluon.nn.basic_layers.BatchNorm'>\n",
      "22 (1L, 256L, 64L, 64L) <class 'mxnet.gluon.nn.basic_layers.Activation'>\n",
      "23 (1L, 256L, 64L, 64L) <class 'mxnet.gluon.nn.conv_layers.Conv2D'>\n",
      "24 (1L, 256L, 64L, 64L) <class 'mxnet.gluon.nn.basic_layers.BatchNorm'>\n",
      "25 (1L, 256L, 64L, 64L) <class 'mxnet.gluon.nn.basic_layers.Activation'>\n",
      "26 (1L, 256L, 32L, 32L) <class 'mxnet.gluon.nn.conv_layers.MaxPool2D'>\n",
      "27 (1L, 512L, 32L, 32L) <class 'mxnet.gluon.nn.conv_layers.Conv2D'>\n",
      "28 (1L, 512L, 32L, 32L) <class 'mxnet.gluon.nn.basic_layers.BatchNorm'>\n",
      "29 (1L, 512L, 32L, 32L) <class 'mxnet.gluon.nn.basic_layers.Activation'>\n",
      "30 (1L, 512L, 32L, 32L) <class 'mxnet.gluon.nn.conv_layers.Conv2D'>\n",
      "31 (1L, 512L, 32L, 32L) <class 'mxnet.gluon.nn.basic_layers.BatchNorm'>\n",
      "32 (1L, 512L, 32L, 32L) <class 'mxnet.gluon.nn.basic_layers.Activation'>\n",
      "33 (1L, 512L, 32L, 32L) <class 'mxnet.gluon.nn.conv_layers.Conv2D'>\n",
      "34 (1L, 512L, 32L, 32L) <class 'mxnet.gluon.nn.basic_layers.BatchNorm'>\n",
      "35 (1L, 512L, 32L, 32L) <class 'mxnet.gluon.nn.basic_layers.Activation'>\n",
      "36 (1L, 512L, 32L, 32L) <class 'mxnet.gluon.nn.conv_layers.Conv2D'>\n",
      "37 (1L, 512L, 32L, 32L) <class 'mxnet.gluon.nn.basic_layers.BatchNorm'>\n",
      "38 (1L, 512L, 32L, 32L) <class 'mxnet.gluon.nn.basic_layers.Activation'>\n",
      "39 (1L, 512L, 16L, 16L) <class 'mxnet.gluon.nn.conv_layers.MaxPool2D'>\n",
      "40 (1L, 512L, 16L, 16L) <class 'mxnet.gluon.nn.conv_layers.Conv2D'>\n",
      "41 (1L, 512L, 16L, 16L) <class 'mxnet.gluon.nn.basic_layers.BatchNorm'>\n",
      "42 (1L, 512L, 16L, 16L) <class 'mxnet.gluon.nn.basic_layers.Activation'>\n",
      "43 (1L, 512L, 16L, 16L) <class 'mxnet.gluon.nn.conv_layers.Conv2D'>\n",
      "44 (1L, 512L, 16L, 16L) <class 'mxnet.gluon.nn.basic_layers.BatchNorm'>\n",
      "45 (1L, 512L, 16L, 16L) <class 'mxnet.gluon.nn.basic_layers.Activation'>\n",
      "46 (1L, 512L, 16L, 16L) <class 'mxnet.gluon.nn.conv_layers.Conv2D'>\n",
      "47 (1L, 512L, 16L, 16L) <class 'mxnet.gluon.nn.basic_layers.BatchNorm'>\n",
      "48 (1L, 512L, 16L, 16L) <class 'mxnet.gluon.nn.basic_layers.Activation'>\n",
      "49 (1L, 512L, 16L, 16L) <class 'mxnet.gluon.nn.conv_layers.Conv2D'>\n",
      "50 (1L, 512L, 16L, 16L) <class 'mxnet.gluon.nn.basic_layers.BatchNorm'>\n",
      "51 (1L, 512L, 16L, 16L) <class 'mxnet.gluon.nn.basic_layers.Activation'>\n",
      "52 (1L, 512L, 8L, 8L) <class 'mxnet.gluon.nn.conv_layers.MaxPool2D'>\n"
     ]
    }
   ],
   "source": [
    "net = model_zoo.vision.vgg19_bn(pretrained=True, ctx=ctx)\n",
    "data = nd.random.uniform(shape=(1, 3, 256, 256)).as_in_context(ctx)\n",
    "solve_data(data, net.features[:])"
   ]
  },
  {
   "cell_type": "markdown",
   "metadata": {
    "collapsed": true
   },
   "source": [
    "3."
   ]
  },
  {
   "cell_type": "code",
   "execution_count": 4,
   "metadata": {
    "ExecuteTime": {
     "end_time": "2017-12-15T07:09:34.894910Z",
     "start_time": "2017-12-15T07:09:34.877311Z"
    },
    "collapsed": true
   },
   "outputs": [],
   "source": [
    "mobilenet = model_zoo.vision.mobilenet1_0()\n",
    "net = gluon.nn.HybridSequential()\n",
    "net.add(*mobilenet.features[:82])\n",
    "net.initialize(ctx=ctx)"
   ]
  },
  {
   "cell_type": "code",
   "execution_count": 6,
   "metadata": {
    "ExecuteTime": {
     "end_time": "2017-12-13T04:22:48.465366Z",
     "start_time": "2017-12-13T04:22:48.382146Z"
    }
   },
   "outputs": [
    {
     "name": "stdout",
     "output_type": "stream",
     "text": [
      "0 (1L, 32L, 128L, 128L) <class 'mxnet.gluon.nn.conv_layers.Conv2D'>\n",
      "1 (1L, 32L, 128L, 128L) <class 'mxnet.gluon.nn.basic_layers.BatchNorm'>\n",
      "2 (1L, 32L, 128L, 128L) <class 'mxnet.gluon.nn.basic_layers.Activation'>\n",
      "3 (1L, 32L, 128L, 128L) <class 'mxnet.gluon.nn.conv_layers.Conv2D'>\n",
      "4 (1L, 32L, 128L, 128L) <class 'mxnet.gluon.nn.basic_layers.BatchNorm'>\n",
      "5 (1L, 32L, 128L, 128L) <class 'mxnet.gluon.nn.basic_layers.Activation'>\n",
      "6 (1L, 64L, 128L, 128L) <class 'mxnet.gluon.nn.conv_layers.Conv2D'>\n",
      "7 (1L, 64L, 128L, 128L) <class 'mxnet.gluon.nn.basic_layers.BatchNorm'>\n",
      "8 (1L, 64L, 128L, 128L) <class 'mxnet.gluon.nn.basic_layers.Activation'>\n",
      "9 (1L, 64L, 64L, 64L) <class 'mxnet.gluon.nn.conv_layers.Conv2D'>\n",
      "10 (1L, 64L, 64L, 64L) <class 'mxnet.gluon.nn.basic_layers.BatchNorm'>\n",
      "11 (1L, 64L, 64L, 64L) <class 'mxnet.gluon.nn.basic_layers.Activation'>\n",
      "12 (1L, 128L, 64L, 64L) <class 'mxnet.gluon.nn.conv_layers.Conv2D'>\n",
      "13 (1L, 128L, 64L, 64L) <class 'mxnet.gluon.nn.basic_layers.BatchNorm'>\n",
      "14 (1L, 128L, 64L, 64L) <class 'mxnet.gluon.nn.basic_layers.Activation'>\n",
      "15 (1L, 128L, 64L, 64L) <class 'mxnet.gluon.nn.conv_layers.Conv2D'>\n",
      "16 (1L, 128L, 64L, 64L) <class 'mxnet.gluon.nn.basic_layers.BatchNorm'>\n",
      "17 (1L, 128L, 64L, 64L) <class 'mxnet.gluon.nn.basic_layers.Activation'>\n",
      "18 (1L, 128L, 64L, 64L) <class 'mxnet.gluon.nn.conv_layers.Conv2D'>\n",
      "19 (1L, 128L, 64L, 64L) <class 'mxnet.gluon.nn.basic_layers.BatchNorm'>\n",
      "20 (1L, 128L, 64L, 64L) <class 'mxnet.gluon.nn.basic_layers.Activation'>\n",
      "21 (1L, 128L, 32L, 32L) <class 'mxnet.gluon.nn.conv_layers.Conv2D'>\n",
      "22 (1L, 128L, 32L, 32L) <class 'mxnet.gluon.nn.basic_layers.BatchNorm'>\n",
      "23 (1L, 128L, 32L, 32L) <class 'mxnet.gluon.nn.basic_layers.Activation'>\n",
      "24 (1L, 256L, 32L, 32L) <class 'mxnet.gluon.nn.conv_layers.Conv2D'>\n",
      "25 (1L, 256L, 32L, 32L) <class 'mxnet.gluon.nn.basic_layers.BatchNorm'>\n",
      "26 (1L, 256L, 32L, 32L) <class 'mxnet.gluon.nn.basic_layers.Activation'>\n",
      "27 (1L, 256L, 32L, 32L) <class 'mxnet.gluon.nn.conv_layers.Conv2D'>\n",
      "28 (1L, 256L, 32L, 32L) <class 'mxnet.gluon.nn.basic_layers.BatchNorm'>\n",
      "29 (1L, 256L, 32L, 32L) <class 'mxnet.gluon.nn.basic_layers.Activation'>\n",
      "30 (1L, 256L, 32L, 32L) <class 'mxnet.gluon.nn.conv_layers.Conv2D'>\n",
      "31 (1L, 256L, 32L, 32L) <class 'mxnet.gluon.nn.basic_layers.BatchNorm'>\n",
      "32 (1L, 256L, 32L, 32L) <class 'mxnet.gluon.nn.basic_layers.Activation'>\n",
      "33 (1L, 256L, 16L, 16L) <class 'mxnet.gluon.nn.conv_layers.Conv2D'>\n",
      "34 (1L, 256L, 16L, 16L) <class 'mxnet.gluon.nn.basic_layers.BatchNorm'>\n",
      "35 (1L, 256L, 16L, 16L) <class 'mxnet.gluon.nn.basic_layers.Activation'>\n",
      "36 (1L, 512L, 16L, 16L) <class 'mxnet.gluon.nn.conv_layers.Conv2D'>\n",
      "37 (1L, 512L, 16L, 16L) <class 'mxnet.gluon.nn.basic_layers.BatchNorm'>\n",
      "38 (1L, 512L, 16L, 16L) <class 'mxnet.gluon.nn.basic_layers.Activation'>\n",
      "39 (1L, 512L, 16L, 16L) <class 'mxnet.gluon.nn.conv_layers.Conv2D'>\n",
      "40 (1L, 512L, 16L, 16L) <class 'mxnet.gluon.nn.basic_layers.BatchNorm'>\n",
      "41 (1L, 512L, 16L, 16L) <class 'mxnet.gluon.nn.basic_layers.Activation'>\n",
      "42 (1L, 512L, 16L, 16L) <class 'mxnet.gluon.nn.conv_layers.Conv2D'>\n",
      "43 (1L, 512L, 16L, 16L) <class 'mxnet.gluon.nn.basic_layers.BatchNorm'>\n",
      "44 (1L, 512L, 16L, 16L) <class 'mxnet.gluon.nn.basic_layers.Activation'>\n",
      "45 (1L, 512L, 16L, 16L) <class 'mxnet.gluon.nn.conv_layers.Conv2D'>\n",
      "46 (1L, 512L, 16L, 16L) <class 'mxnet.gluon.nn.basic_layers.BatchNorm'>\n",
      "47 (1L, 512L, 16L, 16L) <class 'mxnet.gluon.nn.basic_layers.Activation'>\n",
      "48 (1L, 512L, 16L, 16L) <class 'mxnet.gluon.nn.conv_layers.Conv2D'>\n",
      "49 (1L, 512L, 16L, 16L) <class 'mxnet.gluon.nn.basic_layers.BatchNorm'>\n",
      "50 (1L, 512L, 16L, 16L) <class 'mxnet.gluon.nn.basic_layers.Activation'>\n",
      "51 (1L, 512L, 16L, 16L) <class 'mxnet.gluon.nn.conv_layers.Conv2D'>\n",
      "52 (1L, 512L, 16L, 16L) <class 'mxnet.gluon.nn.basic_layers.BatchNorm'>\n",
      "53 (1L, 512L, 16L, 16L) <class 'mxnet.gluon.nn.basic_layers.Activation'>\n",
      "54 (1L, 512L, 16L, 16L) <class 'mxnet.gluon.nn.conv_layers.Conv2D'>\n",
      "55 (1L, 512L, 16L, 16L) <class 'mxnet.gluon.nn.basic_layers.BatchNorm'>\n",
      "56 (1L, 512L, 16L, 16L) <class 'mxnet.gluon.nn.basic_layers.Activation'>\n",
      "57 (1L, 512L, 16L, 16L) <class 'mxnet.gluon.nn.conv_layers.Conv2D'>\n",
      "58 (1L, 512L, 16L, 16L) <class 'mxnet.gluon.nn.basic_layers.BatchNorm'>\n",
      "59 (1L, 512L, 16L, 16L) <class 'mxnet.gluon.nn.basic_layers.Activation'>\n",
      "60 (1L, 512L, 16L, 16L) <class 'mxnet.gluon.nn.conv_layers.Conv2D'>\n",
      "61 (1L, 512L, 16L, 16L) <class 'mxnet.gluon.nn.basic_layers.BatchNorm'>\n",
      "62 (1L, 512L, 16L, 16L) <class 'mxnet.gluon.nn.basic_layers.Activation'>\n",
      "63 (1L, 512L, 16L, 16L) <class 'mxnet.gluon.nn.conv_layers.Conv2D'>\n",
      "64 (1L, 512L, 16L, 16L) <class 'mxnet.gluon.nn.basic_layers.BatchNorm'>\n",
      "65 (1L, 512L, 16L, 16L) <class 'mxnet.gluon.nn.basic_layers.Activation'>\n",
      "66 (1L, 512L, 16L, 16L) <class 'mxnet.gluon.nn.conv_layers.Conv2D'>\n",
      "67 (1L, 512L, 16L, 16L) <class 'mxnet.gluon.nn.basic_layers.BatchNorm'>\n",
      "68 (1L, 512L, 16L, 16L) <class 'mxnet.gluon.nn.basic_layers.Activation'>\n",
      "69 (1L, 512L, 8L, 8L) <class 'mxnet.gluon.nn.conv_layers.Conv2D'>\n",
      "70 (1L, 512L, 8L, 8L) <class 'mxnet.gluon.nn.basic_layers.BatchNorm'>\n",
      "71 (1L, 512L, 8L, 8L) <class 'mxnet.gluon.nn.basic_layers.Activation'>\n",
      "72 (1L, 1024L, 8L, 8L) <class 'mxnet.gluon.nn.conv_layers.Conv2D'>\n",
      "73 (1L, 1024L, 8L, 8L) <class 'mxnet.gluon.nn.basic_layers.BatchNorm'>\n",
      "74 (1L, 1024L, 8L, 8L) <class 'mxnet.gluon.nn.basic_layers.Activation'>\n",
      "75 (1L, 1024L, 8L, 8L) <class 'mxnet.gluon.nn.conv_layers.Conv2D'>\n",
      "76 (1L, 1024L, 8L, 8L) <class 'mxnet.gluon.nn.basic_layers.BatchNorm'>\n",
      "77 (1L, 1024L, 8L, 8L) <class 'mxnet.gluon.nn.basic_layers.Activation'>\n",
      "78 (1L, 1024L, 8L, 8L) <class 'mxnet.gluon.nn.conv_layers.Conv2D'>\n",
      "79 (1L, 1024L, 8L, 8L) <class 'mxnet.gluon.nn.basic_layers.BatchNorm'>\n",
      "80 (1L, 1024L, 8L, 8L) <class 'mxnet.gluon.nn.basic_layers.Activation'>\n",
      "81 (1L, 1024L, 1L, 1L) <class 'mxnet.gluon.nn.conv_layers.GlobalAvgPool2D'>\n"
     ]
    }
   ],
   "source": [
    "solve_data(data, net)"
   ]
  },
  {
   "cell_type": "markdown",
   "metadata": {
    "collapsed": true
   },
   "source": [
    "# squeezenet1_1"
   ]
  },
  {
   "cell_type": "code",
   "execution_count": 2,
   "metadata": {
    "ExecuteTime": {
     "end_time": "2017-12-15T07:01:58.013595Z",
     "start_time": "2017-12-15T07:01:57.756001Z"
    },
    "collapsed": true,
    "scrolled": false
   },
   "outputs": [],
   "source": [
    "squeezenet = model_zoo.vision.squeezenet1_1(pretrained=True, ctx=ctx)\n",
    "# print squeezenet.features\n",
    "net = gluon.nn.HybridSequential()\n",
    "net.add(*squeezenet.features[:13])\n",
    "net.collect_params().initialize(ctx=ctx, force_reinit=True)"
   ]
  },
  {
   "cell_type": "code",
   "execution_count": 3,
   "metadata": {
    "ExecuteTime": {
     "end_time": "2017-12-15T07:02:06.628751Z",
     "start_time": "2017-12-15T07:02:06.625031Z"
    }
   },
   "outputs": [
    {
     "name": "stdout",
     "output_type": "stream",
     "text": [
      "SqueezeNet(\n",
      "  (features): HybridSequential(\n",
      "    (0): Conv2D(64, kernel_size=(3, 3), stride=(2, 2))\n",
      "    (1): Activation(relu)\n",
      "    (2): MaxPool2D(size=(3, 3), stride=(2, 2), padding=(0, 0), ceil_mode=True)\n",
      "    (3): HybridSequential(\n",
      "      (0): HybridSequential(\n",
      "        (0): Conv2D(16, kernel_size=(1, 1), stride=(1, 1))\n",
      "        (1): Activation(relu)\n",
      "      )\n",
      "      (1): HybridConcurrent(\n",
      "        (0): HybridSequential(\n",
      "          (0): Conv2D(64, kernel_size=(1, 1), stride=(1, 1))\n",
      "          (1): Activation(relu)\n",
      "        )\n",
      "        (1): HybridSequential(\n",
      "          (0): Conv2D(64, kernel_size=(3, 3), stride=(1, 1), padding=(1, 1))\n",
      "          (1): Activation(relu)\n",
      "        )\n",
      "      )\n",
      "    )\n",
      "    (4): HybridSequential(\n",
      "      (0): HybridSequential(\n",
      "        (0): Conv2D(16, kernel_size=(1, 1), stride=(1, 1))\n",
      "        (1): Activation(relu)\n",
      "      )\n",
      "      (1): HybridConcurrent(\n",
      "        (0): HybridSequential(\n",
      "          (0): Conv2D(64, kernel_size=(1, 1), stride=(1, 1))\n",
      "          (1): Activation(relu)\n",
      "        )\n",
      "        (1): HybridSequential(\n",
      "          (0): Conv2D(64, kernel_size=(3, 3), stride=(1, 1), padding=(1, 1))\n",
      "          (1): Activation(relu)\n",
      "        )\n",
      "      )\n",
      "    )\n",
      "    (5): MaxPool2D(size=(3, 3), stride=(2, 2), padding=(0, 0), ceil_mode=True)\n",
      "    (6): HybridSequential(\n",
      "      (0): HybridSequential(\n",
      "        (0): Conv2D(32, kernel_size=(1, 1), stride=(1, 1))\n",
      "        (1): Activation(relu)\n",
      "      )\n",
      "      (1): HybridConcurrent(\n",
      "        (0): HybridSequential(\n",
      "          (0): Conv2D(128, kernel_size=(1, 1), stride=(1, 1))\n",
      "          (1): Activation(relu)\n",
      "        )\n",
      "        (1): HybridSequential(\n",
      "          (0): Conv2D(128, kernel_size=(3, 3), stride=(1, 1), padding=(1, 1))\n",
      "          (1): Activation(relu)\n",
      "        )\n",
      "      )\n",
      "    )\n",
      "    (7): HybridSequential(\n",
      "      (0): HybridSequential(\n",
      "        (0): Conv2D(32, kernel_size=(1, 1), stride=(1, 1))\n",
      "        (1): Activation(relu)\n",
      "      )\n",
      "      (1): HybridConcurrent(\n",
      "        (0): HybridSequential(\n",
      "          (0): Conv2D(128, kernel_size=(1, 1), stride=(1, 1))\n",
      "          (1): Activation(relu)\n",
      "        )\n",
      "        (1): HybridSequential(\n",
      "          (0): Conv2D(128, kernel_size=(3, 3), stride=(1, 1), padding=(1, 1))\n",
      "          (1): Activation(relu)\n",
      "        )\n",
      "      )\n",
      "    )\n",
      "    (8): MaxPool2D(size=(3, 3), stride=(2, 2), padding=(0, 0), ceil_mode=True)\n",
      "    (9): HybridSequential(\n",
      "      (0): HybridSequential(\n",
      "        (0): Conv2D(48, kernel_size=(1, 1), stride=(1, 1))\n",
      "        (1): Activation(relu)\n",
      "      )\n",
      "      (1): HybridConcurrent(\n",
      "        (0): HybridSequential(\n",
      "          (0): Conv2D(192, kernel_size=(1, 1), stride=(1, 1))\n",
      "          (1): Activation(relu)\n",
      "        )\n",
      "        (1): HybridSequential(\n",
      "          (0): Conv2D(192, kernel_size=(3, 3), stride=(1, 1), padding=(1, 1))\n",
      "          (1): Activation(relu)\n",
      "        )\n",
      "      )\n",
      "    )\n",
      "    (10): HybridSequential(\n",
      "      (0): HybridSequential(\n",
      "        (0): Conv2D(48, kernel_size=(1, 1), stride=(1, 1))\n",
      "        (1): Activation(relu)\n",
      "      )\n",
      "      (1): HybridConcurrent(\n",
      "        (0): HybridSequential(\n",
      "          (0): Conv2D(192, kernel_size=(1, 1), stride=(1, 1))\n",
      "          (1): Activation(relu)\n",
      "        )\n",
      "        (1): HybridSequential(\n",
      "          (0): Conv2D(192, kernel_size=(3, 3), stride=(1, 1), padding=(1, 1))\n",
      "          (1): Activation(relu)\n",
      "        )\n",
      "      )\n",
      "    )\n",
      "    (11): HybridSequential(\n",
      "      (0): HybridSequential(\n",
      "        (0): Conv2D(64, kernel_size=(1, 1), stride=(1, 1))\n",
      "        (1): Activation(relu)\n",
      "      )\n",
      "      (1): HybridConcurrent(\n",
      "        (0): HybridSequential(\n",
      "          (0): Conv2D(256, kernel_size=(1, 1), stride=(1, 1))\n",
      "          (1): Activation(relu)\n",
      "        )\n",
      "        (1): HybridSequential(\n",
      "          (0): Conv2D(256, kernel_size=(3, 3), stride=(1, 1), padding=(1, 1))\n",
      "          (1): Activation(relu)\n",
      "        )\n",
      "      )\n",
      "    )\n",
      "    (12): HybridSequential(\n",
      "      (0): HybridSequential(\n",
      "        (0): Conv2D(64, kernel_size=(1, 1), stride=(1, 1))\n",
      "        (1): Activation(relu)\n",
      "      )\n",
      "      (1): HybridConcurrent(\n",
      "        (0): HybridSequential(\n",
      "          (0): Conv2D(256, kernel_size=(1, 1), stride=(1, 1))\n",
      "          (1): Activation(relu)\n",
      "        )\n",
      "        (1): HybridSequential(\n",
      "          (0): Conv2D(256, kernel_size=(3, 3), stride=(1, 1), padding=(1, 1))\n",
      "          (1): Activation(relu)\n",
      "        )\n",
      "      )\n",
      "    )\n",
      "  )\n",
      "  (classifier): HybridSequential(\n",
      "    (0): Dropout(p = 0.5)\n",
      "    (1): Conv2D(1000, kernel_size=(1, 1), stride=(1, 1))\n",
      "    (2): Activation(relu)\n",
      "    (3): AvgPool2D(size=(13, 13), stride=(13, 13), padding=(0, 0), ceil_mode=False)\n",
      "    (4): Flatten\n",
      "  )\n",
      ")\n"
     ]
    }
   ],
   "source": [
    "print squeezenet"
   ]
  },
  {
   "cell_type": "code",
   "execution_count": 24,
   "metadata": {
    "ExecuteTime": {
     "end_time": "2017-12-13T15:29:44.204901Z",
     "start_time": "2017-12-13T15:29:44.190636Z"
    }
   },
   "outputs": [
    {
     "name": "stdout",
     "output_type": "stream",
     "text": [
      "0 (1L, 64L, 129L, 129L) <class 'mxnet.gluon.nn.conv_layers.Conv2D'>\n",
      "1 (1L, 64L, 129L, 129L) <class 'mxnet.gluon.nn.basic_layers.Activation'>\n",
      "2 (1L, 64L, 64L, 64L) <class 'mxnet.gluon.nn.conv_layers.MaxPool2D'>\n",
      "3 (1L, 128L, 64L, 64L) <class 'mxnet.gluon.nn.basic_layers.HybridSequential'>\n",
      "4 (1L, 128L, 64L, 64L) <class 'mxnet.gluon.nn.basic_layers.HybridSequential'>\n",
      "5 (1L, 128L, 32L, 32L) <class 'mxnet.gluon.nn.conv_layers.MaxPool2D'>\n",
      "6 (1L, 256L, 32L, 32L) <class 'mxnet.gluon.nn.basic_layers.HybridSequential'>\n",
      "7 (1L, 256L, 32L, 32L) <class 'mxnet.gluon.nn.basic_layers.HybridSequential'>\n",
      "8 (1L, 256L, 16L, 16L) <class 'mxnet.gluon.nn.conv_layers.MaxPool2D'>\n",
      "9 (1L, 384L, 16L, 16L) <class 'mxnet.gluon.nn.basic_layers.HybridSequential'>\n",
      "10 (1L, 384L, 16L, 16L) <class 'mxnet.gluon.nn.basic_layers.HybridSequential'>\n",
      "11 (1L, 512L, 16L, 16L) <class 'mxnet.gluon.nn.basic_layers.HybridSequential'>\n",
      "12 (1L, 512L, 16L, 16L) <class 'mxnet.gluon.nn.basic_layers.HybridSequential'>\n"
     ]
    }
   ],
   "source": [
    "data = nd.random.uniform(shape=(1, 3, 260, 260)).as_in_context(ctx)\n",
    "solve_data(data, net)"
   ]
  },
  {
   "cell_type": "code",
   "execution_count": 50,
   "metadata": {
    "ExecuteTime": {
     "end_time": "2017-12-14T06:17:48.337494Z",
     "start_time": "2017-12-14T06:17:45.523429Z"
    }
   },
   "outputs": [
    {
     "name": "stdout",
     "output_type": "stream",
     "text": [
      "Model file is not found. Downloading.\n",
      "Downloading /home/hui/.mxnet/models/squeezenet1.0-264ba497.zip from https://apache-mxnet.s3-accelerate.dualstack.amazonaws.com/gluon/models/squeezenet1.0-264ba497.zip...\n",
      "0 (1L, 96L, 125L, 125L) <class 'mxnet.gluon.nn.conv_layers.Conv2D'>\n",
      "1 (1L, 96L, 125L, 125L) <class 'mxnet.gluon.nn.basic_layers.Activation'>\n",
      "2 (1L, 96L, 62L, 62L) <class 'mxnet.gluon.nn.conv_layers.MaxPool2D'>\n",
      "3 (1L, 128L, 62L, 62L) <class 'mxnet.gluon.nn.basic_layers.HybridSequential'>\n",
      "4 (1L, 128L, 62L, 62L) <class 'mxnet.gluon.nn.basic_layers.HybridSequential'>\n",
      "5 (1L, 256L, 62L, 62L) <class 'mxnet.gluon.nn.basic_layers.HybridSequential'>\n",
      "6 (1L, 256L, 31L, 31L) <class 'mxnet.gluon.nn.conv_layers.MaxPool2D'>\n",
      "7 (1L, 256L, 31L, 31L) <class 'mxnet.gluon.nn.basic_layers.HybridSequential'>\n",
      "8 (1L, 384L, 31L, 31L) <class 'mxnet.gluon.nn.basic_layers.HybridSequential'>\n",
      "9 (1L, 384L, 31L, 31L) <class 'mxnet.gluon.nn.basic_layers.HybridSequential'>\n",
      "10 (1L, 512L, 31L, 31L) <class 'mxnet.gluon.nn.basic_layers.HybridSequential'>\n",
      "11 (1L, 512L, 15L, 15L) <class 'mxnet.gluon.nn.conv_layers.MaxPool2D'>\n",
      "12 (1L, 512L, 15L, 15L) <class 'mxnet.gluon.nn.basic_layers.HybridSequential'>\n"
     ]
    }
   ],
   "source": [
    "net = model_zoo.vision.squeezenet1_0(pretrained=True, ctx=ctx)\n",
    "solve_data(data, net.features[:])"
   ]
  },
  {
   "cell_type": "code",
   "execution_count": 53,
   "metadata": {
    "ExecuteTime": {
     "end_time": "2017-12-14T06:34:01.277230Z",
     "start_time": "2017-12-14T06:34:00.966512Z"
    }
   },
   "outputs": [
    {
     "name": "stdout",
     "output_type": "stream",
     "text": [
      "0 (1L, 32L, 255L, 255L) <class 'mxnet.gluon.nn.basic_layers.HybridSequential'>\n",
      "1 (1L, 32L, 253L, 253L) <class 'mxnet.gluon.nn.basic_layers.HybridSequential'>\n",
      "2 (1L, 64L, 253L, 253L) <class 'mxnet.gluon.nn.basic_layers.HybridSequential'>\n",
      "3 (1L, 64L, 126L, 126L) <class 'mxnet.gluon.nn.conv_layers.MaxPool2D'>\n",
      "4 (1L, 80L, 126L, 126L) <class 'mxnet.gluon.nn.basic_layers.HybridSequential'>\n",
      "5 (1L, 192L, 124L, 124L) <class 'mxnet.gluon.nn.basic_layers.HybridSequential'>\n",
      "6 (1L, 192L, 61L, 61L) <class 'mxnet.gluon.nn.conv_layers.MaxPool2D'>\n",
      "7 (1L, 256L, 61L, 61L) <class 'mxnet.gluon.model_zoo.custom_layers.HybridConcurrent'>\n",
      "8 (1L, 288L, 61L, 61L) <class 'mxnet.gluon.model_zoo.custom_layers.HybridConcurrent'>\n",
      "9 (1L, 288L, 61L, 61L) <class 'mxnet.gluon.model_zoo.custom_layers.HybridConcurrent'>\n",
      "10 (1L, 768L, 30L, 30L) <class 'mxnet.gluon.model_zoo.custom_layers.HybridConcurrent'>\n",
      "11 (1L, 768L, 30L, 30L) <class 'mxnet.gluon.model_zoo.custom_layers.HybridConcurrent'>\n",
      "12 (1L, 768L, 30L, 30L) <class 'mxnet.gluon.model_zoo.custom_layers.HybridConcurrent'>\n",
      "13 (1L, 768L, 30L, 30L) <class 'mxnet.gluon.model_zoo.custom_layers.HybridConcurrent'>\n",
      "14 (1L, 768L, 30L, 30L) <class 'mxnet.gluon.model_zoo.custom_layers.HybridConcurrent'>\n"
     ]
    }
   ],
   "source": [
    "net = model_zoo.vision.inception_v3(pretrained=True, ctx=ctx)\n",
    "solve_data(nd.random.uniform(shape=(1, 3, 512, 512)), net.features[:])"
   ]
  },
  {
   "cell_type": "markdown",
   "metadata": {},
   "source": [
    "# Resnet"
   ]
  },
  {
   "cell_type": "code",
   "execution_count": 32,
   "metadata": {
    "ExecuteTime": {
     "end_time": "2017-12-14T05:17:08.310958Z",
     "start_time": "2017-12-14T05:17:08.212716Z"
    }
   },
   "outputs": [
    {
     "name": "stdout",
     "output_type": "stream",
     "text": [
      "0 (1L, 3L, 256L, 256L) <class 'mxnet.gluon.nn.basic_layers.BatchNorm'>\n",
      "1 (1L, 64L, 128L, 128L) <class 'mxnet.gluon.nn.conv_layers.Conv2D'>\n",
      "2 (1L, 64L, 128L, 128L) <class 'mxnet.gluon.nn.basic_layers.BatchNorm'>\n",
      "3 (1L, 64L, 128L, 128L) <class 'mxnet.gluon.nn.basic_layers.Activation'>\n",
      "4 (1L, 64L, 64L, 64L) <class 'mxnet.gluon.nn.conv_layers.MaxPool2D'>\n",
      "5 (1L, 64L, 64L, 64L) <class 'mxnet.gluon.nn.basic_layers.HybridSequential'>\n",
      "6 (1L, 128L, 32L, 32L) <class 'mxnet.gluon.nn.basic_layers.HybridSequential'>\n",
      "7 (1L, 256L, 16L, 16L) <class 'mxnet.gluon.nn.basic_layers.HybridSequential'>\n",
      "8 (1L, 512L, 8L, 8L) <class 'mxnet.gluon.nn.basic_layers.HybridSequential'>\n"
     ]
    }
   ],
   "source": [
    "resnet18_v2 = model_zoo.vision.resnet18_v2(pretrained=True, ctx=ctx)\n",
    "solve_data(data, resnet18_v2.features[:])"
   ]
  },
  {
   "cell_type": "code",
   "execution_count": 33,
   "metadata": {
    "ExecuteTime": {
     "end_time": "2017-12-14T05:41:32.799757Z",
     "start_time": "2017-12-14T05:40:45.119587Z"
    }
   },
   "outputs": [
    {
     "name": "stdout",
     "output_type": "stream",
     "text": [
      "Model file is not found. Downloading.\n",
      "Downloading /home/hui/.mxnet/models/resnet34_v2-0ed3cd06.zip from https://apache-mxnet.s3-accelerate.dualstack.amazonaws.com/gluon/models/resnet34_v2-0ed3cd06.zip...\n",
      "0 (1L, 3L, 256L, 256L) <class 'mxnet.gluon.nn.basic_layers.BatchNorm'>\n",
      "1 (1L, 64L, 128L, 128L) <class 'mxnet.gluon.nn.conv_layers.Conv2D'>\n",
      "2 (1L, 64L, 128L, 128L) <class 'mxnet.gluon.nn.basic_layers.BatchNorm'>\n",
      "3 (1L, 64L, 128L, 128L) <class 'mxnet.gluon.nn.basic_layers.Activation'>\n",
      "4 (1L, 64L, 64L, 64L) <class 'mxnet.gluon.nn.conv_layers.MaxPool2D'>\n",
      "5 (1L, 64L, 64L, 64L) <class 'mxnet.gluon.nn.basic_layers.HybridSequential'>\n",
      "6 (1L, 128L, 32L, 32L) <class 'mxnet.gluon.nn.basic_layers.HybridSequential'>\n",
      "7 (1L, 256L, 16L, 16L) <class 'mxnet.gluon.nn.basic_layers.HybridSequential'>\n",
      "8 (1L, 512L, 8L, 8L) <class 'mxnet.gluon.nn.basic_layers.HybridSequential'>\n"
     ]
    }
   ],
   "source": [
    "net = model_zoo.vision.resnet34_v2(pretrained=True, ctx=ctx)\n",
    "solve_data(data, net.features[:])"
   ]
  },
  {
   "cell_type": "code",
   "execution_count": 34,
   "metadata": {
    "ExecuteTime": {
     "end_time": "2017-12-14T05:42:18.610874Z",
     "start_time": "2017-12-14T05:41:32.801288Z"
    }
   },
   "outputs": [
    {
     "name": "stdout",
     "output_type": "stream",
     "text": [
      "Model file is not found. Downloading.\n",
      "Downloading /home/hui/.mxnet/models/resnet50_v2-eb7a3687.zip from https://apache-mxnet.s3-accelerate.dualstack.amazonaws.com/gluon/models/resnet50_v2-eb7a3687.zip...\n",
      "0 (1L, 3L, 256L, 256L) <class 'mxnet.gluon.nn.basic_layers.BatchNorm'>\n",
      "1 (1L, 64L, 128L, 128L) <class 'mxnet.gluon.nn.conv_layers.Conv2D'>\n",
      "2 (1L, 64L, 128L, 128L) <class 'mxnet.gluon.nn.basic_layers.BatchNorm'>\n",
      "3 (1L, 64L, 128L, 128L) <class 'mxnet.gluon.nn.basic_layers.Activation'>\n",
      "4 (1L, 64L, 64L, 64L) <class 'mxnet.gluon.nn.conv_layers.MaxPool2D'>\n",
      "5 (1L, 256L, 64L, 64L) <class 'mxnet.gluon.nn.basic_layers.HybridSequential'>\n",
      "6 (1L, 512L, 32L, 32L) <class 'mxnet.gluon.nn.basic_layers.HybridSequential'>\n",
      "7 (1L, 1024L, 16L, 16L) <class 'mxnet.gluon.nn.basic_layers.HybridSequential'>\n",
      "8 (1L, 2048L, 8L, 8L) <class 'mxnet.gluon.nn.basic_layers.HybridSequential'>\n"
     ]
    }
   ],
   "source": [
    "net = model_zoo.vision.resnet50_v2(pretrained=True, ctx=ctx)\n",
    "solve_data(data, net.features[:])"
   ]
  },
  {
   "cell_type": "code",
   "execution_count": 38,
   "metadata": {
    "ExecuteTime": {
     "end_time": "2017-12-14T05:52:52.865425Z",
     "start_time": "2017-12-14T05:52:16.699869Z"
    }
   },
   "outputs": [
    {
     "name": "stdout",
     "output_type": "stream",
     "text": [
      "Model file is not found. Downloading.\n",
      "Downloading /home/hui/.mxnet/models/resnet101_v1-d2b128fa.zip from https://apache-mxnet.s3-accelerate.dualstack.amazonaws.com/gluon/models/resnet101_v1-d2b128fa.zip...\n",
      "0 (1L, 64L, 128L, 128L) <class 'mxnet.gluon.nn.conv_layers.Conv2D'>\n",
      "1 (1L, 64L, 128L, 128L) <class 'mxnet.gluon.nn.basic_layers.BatchNorm'>\n",
      "2 (1L, 64L, 128L, 128L) <class 'mxnet.gluon.nn.basic_layers.Activation'>\n",
      "3 (1L, 64L, 64L, 64L) <class 'mxnet.gluon.nn.conv_layers.MaxPool2D'>\n",
      "4 (1L, 256L, 64L, 64L) <class 'mxnet.gluon.nn.basic_layers.HybridSequential'>\n",
      "5 (1L, 512L, 32L, 32L) <class 'mxnet.gluon.nn.basic_layers.HybridSequential'>\n",
      "6 (1L, 1024L, 16L, 16L) <class 'mxnet.gluon.nn.basic_layers.HybridSequential'>\n",
      "7 (1L, 2048L, 8L, 8L) <class 'mxnet.gluon.nn.basic_layers.HybridSequential'>\n"
     ]
    }
   ],
   "source": [
    "net = model_zoo.vision.resnet101_v1(pretrained=True, ctx=ctx)\n",
    "solve_data(data, net.features[:])"
   ]
  },
  {
   "cell_type": "code",
   "execution_count": 40,
   "metadata": {
    "ExecuteTime": {
     "end_time": "2017-12-14T05:53:37.257582Z",
     "start_time": "2017-12-14T05:52:56.171055Z"
    }
   },
   "outputs": [
    {
     "name": "stdout",
     "output_type": "stream",
     "text": [
      "Model file is not found. Downloading.\n",
      "Downloading /home/hui/.mxnet/models/resnet152_v1-6562166c.zip from https://apache-mxnet.s3-accelerate.dualstack.amazonaws.com/gluon/models/resnet152_v1-6562166c.zip...\n",
      "0 (1L, 64L, 128L, 128L) <class 'mxnet.gluon.nn.conv_layers.Conv2D'>\n",
      "1 (1L, 64L, 128L, 128L) <class 'mxnet.gluon.nn.basic_layers.BatchNorm'>\n",
      "2 (1L, 64L, 128L, 128L) <class 'mxnet.gluon.nn.basic_layers.Activation'>\n",
      "3 (1L, 64L, 64L, 64L) <class 'mxnet.gluon.nn.conv_layers.MaxPool2D'>\n",
      "4 (1L, 256L, 64L, 64L) <class 'mxnet.gluon.nn.basic_layers.HybridSequential'>\n",
      "5 (1L, 512L, 32L, 32L) <class 'mxnet.gluon.nn.basic_layers.HybridSequential'>\n",
      "6 (1L, 1024L, 16L, 16L) <class 'mxnet.gluon.nn.basic_layers.HybridSequential'>\n",
      "7 (1L, 2048L, 8L, 8L) <class 'mxnet.gluon.nn.basic_layers.HybridSequential'>\n"
     ]
    }
   ],
   "source": [
    "net = model_zoo.vision.resnet152_v1(pretrained=True, ctx=ctx)\n",
    "solve_data(data, net.features[:])"
   ]
  },
  {
   "cell_type": "code",
   "execution_count": 46,
   "metadata": {
    "ExecuteTime": {
     "end_time": "2017-12-14T06:16:23.021671Z",
     "start_time": "2017-12-14T06:16:16.585610Z"
    }
   },
   "outputs": [
    {
     "name": "stdout",
     "output_type": "stream",
     "text": [
      "Model file is not found. Downloading.\n",
      "Downloading /home/hui/.mxnet/models/densenet121-f27dbf2d.zip from https://apache-mxnet.s3-accelerate.dualstack.amazonaws.com/gluon/models/densenet121-f27dbf2d.zip...\n",
      "0 (1L, 64L, 128L, 128L) <class 'mxnet.gluon.nn.conv_layers.Conv2D'>\n",
      "1 (1L, 64L, 128L, 128L) <class 'mxnet.gluon.nn.basic_layers.BatchNorm'>\n",
      "2 (1L, 64L, 128L, 128L) <class 'mxnet.gluon.nn.basic_layers.Activation'>\n",
      "3 (1L, 64L, 64L, 64L) <class 'mxnet.gluon.nn.conv_layers.MaxPool2D'>\n",
      "4 (1L, 256L, 64L, 64L) <class 'mxnet.gluon.nn.basic_layers.HybridSequential'>\n",
      "5 (1L, 128L, 32L, 32L) <class 'mxnet.gluon.nn.basic_layers.HybridSequential'>\n",
      "6 (1L, 512L, 32L, 32L) <class 'mxnet.gluon.nn.basic_layers.HybridSequential'>\n",
      "7 (1L, 256L, 16L, 16L) <class 'mxnet.gluon.nn.basic_layers.HybridSequential'>\n",
      "8 (1L, 1024L, 16L, 16L) <class 'mxnet.gluon.nn.basic_layers.HybridSequential'>\n",
      "9 (1L, 512L, 8L, 8L) <class 'mxnet.gluon.nn.basic_layers.HybridSequential'>\n",
      "10 (1L, 1024L, 8L, 8L) <class 'mxnet.gluon.nn.basic_layers.HybridSequential'>\n",
      "11 (1L, 1024L, 8L, 8L) <class 'mxnet.gluon.nn.basic_layers.BatchNorm'>\n",
      "12 (1L, 1024L, 8L, 8L) <class 'mxnet.gluon.nn.basic_layers.Activation'>\n",
      "13 (1L, 1024L, 1L, 1L) <class 'mxnet.gluon.nn.conv_layers.AvgPool2D'>\n",
      "14 (1L, 1024L) <class 'mxnet.gluon.nn.basic_layers.Flatten'>\n"
     ]
    }
   ],
   "source": [
    "net = model_zoo.vision.densenet121(pretrained=True, ctx=ctx)\n",
    "solve_data(data, net.features[:])"
   ]
  },
  {
   "cell_type": "code",
   "execution_count": 47,
   "metadata": {
    "ExecuteTime": {
     "end_time": "2017-12-14T06:16:39.413247Z",
     "start_time": "2017-12-14T06:16:38.538372Z"
    }
   },
   "outputs": [
    {
     "name": "stdout",
     "output_type": "stream",
     "text": [
      "0 (1L, 96L, 128L, 128L) <class 'mxnet.gluon.nn.conv_layers.Conv2D'>\n",
      "1 (1L, 96L, 128L, 128L) <class 'mxnet.gluon.nn.basic_layers.BatchNorm'>\n",
      "2 (1L, 96L, 128L, 128L) <class 'mxnet.gluon.nn.basic_layers.Activation'>\n",
      "3 (1L, 96L, 64L, 64L) <class 'mxnet.gluon.nn.conv_layers.MaxPool2D'>\n",
      "4 (1L, 384L, 64L, 64L) <class 'mxnet.gluon.nn.basic_layers.HybridSequential'>\n",
      "5 (1L, 192L, 32L, 32L) <class 'mxnet.gluon.nn.basic_layers.HybridSequential'>\n",
      "6 (1L, 768L, 32L, 32L) <class 'mxnet.gluon.nn.basic_layers.HybridSequential'>\n",
      "7 (1L, 384L, 16L, 16L) <class 'mxnet.gluon.nn.basic_layers.HybridSequential'>\n",
      "8 (1L, 2112L, 16L, 16L) <class 'mxnet.gluon.nn.basic_layers.HybridSequential'>\n",
      "9 (1L, 1056L, 8L, 8L) <class 'mxnet.gluon.nn.basic_layers.HybridSequential'>\n",
      "10 (1L, 2208L, 8L, 8L) <class 'mxnet.gluon.nn.basic_layers.HybridSequential'>\n",
      "11 (1L, 2208L, 8L, 8L) <class 'mxnet.gluon.nn.basic_layers.BatchNorm'>\n",
      "12 (1L, 2208L, 8L, 8L) <class 'mxnet.gluon.nn.basic_layers.Activation'>\n",
      "13 (1L, 2208L, 1L, 1L) <class 'mxnet.gluon.nn.conv_layers.AvgPool2D'>\n",
      "14 (1L, 2208L) <class 'mxnet.gluon.nn.basic_layers.Flatten'>\n"
     ]
    }
   ],
   "source": [
    "net = model_zoo.vision.densenet161(pretrained=True, ctx=ctx)\n",
    "solve_data(data, net.features[:])"
   ]
  },
  {
   "cell_type": "code",
   "execution_count": 48,
   "metadata": {
    "ExecuteTime": {
     "end_time": "2017-12-14T06:17:08.832987Z",
     "start_time": "2017-12-14T06:16:59.665721Z"
    }
   },
   "outputs": [
    {
     "name": "stdout",
     "output_type": "stream",
     "text": [
      "Model file is not found. Downloading.\n",
      "Downloading /home/hui/.mxnet/models/densenet169-2603f878.zip from https://apache-mxnet.s3-accelerate.dualstack.amazonaws.com/gluon/models/densenet169-2603f878.zip...\n",
      "0 (1L, 64L, 128L, 128L) <class 'mxnet.gluon.nn.conv_layers.Conv2D'>\n",
      "1 (1L, 64L, 128L, 128L) <class 'mxnet.gluon.nn.basic_layers.BatchNorm'>\n",
      "2 (1L, 64L, 128L, 128L) <class 'mxnet.gluon.nn.basic_layers.Activation'>\n",
      "3 (1L, 64L, 64L, 64L) <class 'mxnet.gluon.nn.conv_layers.MaxPool2D'>\n",
      "4 (1L, 256L, 64L, 64L) <class 'mxnet.gluon.nn.basic_layers.HybridSequential'>\n",
      "5 (1L, 128L, 32L, 32L) <class 'mxnet.gluon.nn.basic_layers.HybridSequential'>\n",
      "6 (1L, 512L, 32L, 32L) <class 'mxnet.gluon.nn.basic_layers.HybridSequential'>\n",
      "7 (1L, 256L, 16L, 16L) <class 'mxnet.gluon.nn.basic_layers.HybridSequential'>\n",
      "8 (1L, 1280L, 16L, 16L) <class 'mxnet.gluon.nn.basic_layers.HybridSequential'>\n",
      "9 (1L, 640L, 8L, 8L) <class 'mxnet.gluon.nn.basic_layers.HybridSequential'>\n",
      "10 (1L, 1664L, 8L, 8L) <class 'mxnet.gluon.nn.basic_layers.HybridSequential'>\n",
      "11 (1L, 1664L, 8L, 8L) <class 'mxnet.gluon.nn.basic_layers.BatchNorm'>\n",
      "12 (1L, 1664L, 8L, 8L) <class 'mxnet.gluon.nn.basic_layers.Activation'>\n",
      "13 (1L, 1664L, 1L, 1L) <class 'mxnet.gluon.nn.conv_layers.AvgPool2D'>\n",
      "14 (1L, 1664L) <class 'mxnet.gluon.nn.basic_layers.Flatten'>\n"
     ]
    }
   ],
   "source": [
    "net = model_zoo.vision.densenet169(pretrained=True, ctx=ctx)\n",
    "solve_data(data, net.features[:])"
   ]
  },
  {
   "cell_type": "code",
   "execution_count": 49,
   "metadata": {
    "ExecuteTime": {
     "end_time": "2017-12-14T06:17:27.978759Z",
     "start_time": "2017-12-14T06:17:13.988217Z"
    }
   },
   "outputs": [
    {
     "name": "stdout",
     "output_type": "stream",
     "text": [
      "Model file is not found. Downloading.\n",
      "Downloading /home/hui/.mxnet/models/densenet201-1cdbc116.zip from https://apache-mxnet.s3-accelerate.dualstack.amazonaws.com/gluon/models/densenet201-1cdbc116.zip...\n",
      "0 (1L, 64L, 128L, 128L) <class 'mxnet.gluon.nn.conv_layers.Conv2D'>\n",
      "1 (1L, 64L, 128L, 128L) <class 'mxnet.gluon.nn.basic_layers.BatchNorm'>\n",
      "2 (1L, 64L, 128L, 128L) <class 'mxnet.gluon.nn.basic_layers.Activation'>\n",
      "3 (1L, 64L, 64L, 64L) <class 'mxnet.gluon.nn.conv_layers.MaxPool2D'>\n",
      "4 (1L, 256L, 64L, 64L) <class 'mxnet.gluon.nn.basic_layers.HybridSequential'>\n",
      "5 (1L, 128L, 32L, 32L) <class 'mxnet.gluon.nn.basic_layers.HybridSequential'>\n",
      "6 (1L, 512L, 32L, 32L) <class 'mxnet.gluon.nn.basic_layers.HybridSequential'>\n",
      "7 (1L, 256L, 16L, 16L) <class 'mxnet.gluon.nn.basic_layers.HybridSequential'>\n",
      "8 (1L, 1792L, 16L, 16L) <class 'mxnet.gluon.nn.basic_layers.HybridSequential'>\n",
      "9 (1L, 896L, 8L, 8L) <class 'mxnet.gluon.nn.basic_layers.HybridSequential'>\n",
      "10 (1L, 1920L, 8L, 8L) <class 'mxnet.gluon.nn.basic_layers.HybridSequential'>\n",
      "11 (1L, 1920L, 8L, 8L) <class 'mxnet.gluon.nn.basic_layers.BatchNorm'>\n",
      "12 (1L, 1920L, 8L, 8L) <class 'mxnet.gluon.nn.basic_layers.Activation'>\n",
      "13 (1L, 1920L, 1L, 1L) <class 'mxnet.gluon.nn.conv_layers.AvgPool2D'>\n",
      "14 (1L, 1920L) <class 'mxnet.gluon.nn.basic_layers.Flatten'>\n"
     ]
    }
   ],
   "source": [
    "net = model_zoo.vision.densenet201(pretrained=True, ctx=ctx)\n",
    "solve_data(data, net.features[:])"
   ]
  },
  {
   "cell_type": "code",
   "execution_count": null,
   "metadata": {
    "collapsed": true
   },
   "outputs": [],
   "source": []
  }
 ],
 "metadata": {
  "kernelspec": {
   "display_name": "Python 2",
   "language": "python",
   "name": "python2"
  },
  "language_info": {
   "codemirror_mode": {
    "name": "ipython",
    "version": 2
   },
   "file_extension": ".py",
   "mimetype": "text/x-python",
   "name": "python",
   "nbconvert_exporter": "python",
   "pygments_lexer": "ipython2",
   "version": "2.7.12"
  }
 },
 "nbformat": 4,
 "nbformat_minor": 2
}
