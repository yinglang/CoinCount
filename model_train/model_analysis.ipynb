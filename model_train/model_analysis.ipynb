{
 "cells": [
  {
   "cell_type": "code",
   "execution_count": 2,
   "metadata": {
    "ExecuteTime": {
     "end_time": "2017-12-11T18:51:21.077102Z",
     "start_time": "2017-12-11T18:51:17.580418Z"
    },
    "collapsed": true
   },
   "outputs": [],
   "source": [
    "import mxnet as mx\n",
    "from mxnet import gluon, nd\n",
    "from mxnet.gluon import model_zoo\n",
    "\n",
    "ctx=mx.cpu(0)\n",
    "\n",
    "data = nd.random.uniform(shape=(1, 3, 700, 700)).as_in_context(ctx)\n",
    "def solve_data(x, net):\n",
    "    for i, block in enumerate(net):\n",
    "        x = block(x)\n",
    "        print i, x.shape, type(block)"
   ]
  },
  {
   "cell_type": "markdown",
   "metadata": {},
   "source": [
    "## 1. Alexnet"
   ]
  },
  {
   "cell_type": "code",
   "execution_count": 6,
   "metadata": {
    "ExecuteTime": {
     "end_time": "2017-12-08T08:33:33.100709Z",
     "start_time": "2017-12-08T08:33:32.762679Z"
    },
    "collapsed": true
   },
   "outputs": [],
   "source": [
    "# 224 defualt\n",
    "alexnet = model_zoo.vision.alexnet(pretrained=True, ctx=ctx)\n",
    "net = gluon.nn.HybridSequential()\n",
    "net.add(*(alexnet.features[:8]))"
   ]
  },
  {
   "cell_type": "code",
   "execution_count": 7,
   "metadata": {
    "ExecuteTime": {
     "end_time": "2017-12-08T08:33:33.643180Z",
     "start_time": "2017-12-08T08:33:33.318973Z"
    }
   },
   "outputs": [
    {
     "name": "stdout",
     "output_type": "stream",
     "text": [
      "alexnet:--------\n",
      "AlexNet(\n",
      "  (features): HybridSequential(\n",
      "    (0): Conv2D(64, kernel_size=(11, 11), stride=(4, 4), padding=(2, 2))\n",
      "    (1): MaxPool2D(size=(3, 3), stride=(2, 2), padding=(0, 0), ceil_mode=False)\n",
      "    (2): Conv2D(192, kernel_size=(5, 5), stride=(1, 1), padding=(2, 2))\n",
      "    (3): MaxPool2D(size=(3, 3), stride=(2, 2), padding=(0, 0), ceil_mode=False)\n",
      "    (4): Conv2D(384, kernel_size=(3, 3), stride=(1, 1), padding=(1, 1))\n",
      "    (5): Conv2D(256, kernel_size=(3, 3), stride=(1, 1), padding=(1, 1))\n",
      "    (6): Conv2D(256, kernel_size=(3, 3), stride=(1, 1), padding=(1, 1))\n",
      "    (7): MaxPool2D(size=(3, 3), stride=(2, 2), padding=(0, 0), ceil_mode=False)\n",
      "    (8): Flatten\n",
      "  )\n",
      "  (classifier): HybridSequential(\n",
      "    (0): Dense(4096, Activation(relu))\n",
      "    (1): Dropout(p = 0.5)\n",
      "    (2): Dense(4096, Activation(relu))\n",
      "    (3): Dropout(p = 0.5)\n",
      "    (4): Dense(1000, linear)\n",
      "  )\n",
      ")\n",
      "net:---------\n",
      "HybridSequential(\n",
      "  (0): Conv2D(64, kernel_size=(11, 11), stride=(4, 4), padding=(2, 2))\n",
      "  (1): MaxPool2D(size=(3, 3), stride=(2, 2), padding=(0, 0), ceil_mode=False)\n",
      "  (2): Conv2D(192, kernel_size=(5, 5), stride=(1, 1), padding=(2, 2))\n",
      "  (3): MaxPool2D(size=(3, 3), stride=(2, 2), padding=(0, 0), ceil_mode=False)\n",
      "  (4): Conv2D(384, kernel_size=(3, 3), stride=(1, 1), padding=(1, 1))\n",
      "  (5): Conv2D(256, kernel_size=(3, 3), stride=(1, 1), padding=(1, 1))\n",
      "  (6): Conv2D(256, kernel_size=(3, 3), stride=(1, 1), padding=(1, 1))\n",
      "  (7): MaxPool2D(size=(3, 3), stride=(2, 2), padding=(0, 0), ceil_mode=False)\n",
      ")\n",
      "(1L, 256L, 7L, 7L)\n"
     ]
    }
   ],
   "source": [
    "print \"alexnet:--------\"\n",
    "print alexnet\n",
    "print \"net:---------\"\n",
    "print net\n",
    "\n",
    "data = net(nd.random.uniform(shape=(1, 3, 256, 256)).as_in_context(ctx))\n",
    "print data.shape"
   ]
  },
  {
   "cell_type": "code",
   "execution_count": 27,
   "metadata": {
    "ExecuteTime": {
     "end_time": "2017-12-08T08:41:32.306640Z",
     "start_time": "2017-12-08T08:41:32.293866Z"
    }
   },
   "outputs": [
    {
     "name": "stdout",
     "output_type": "stream",
     "text": [
      "0 (1L, 64L, 63L, 63L) <class 'mxnet.gluon.nn.conv_layers.Conv2D'>\n",
      "1 (1L, 64L, 31L, 31L) <class 'mxnet.gluon.nn.conv_layers.MaxPool2D'>\n",
      "2 (1L, 192L, 31L, 31L) <class 'mxnet.gluon.nn.conv_layers.Conv2D'>\n",
      "3 (1L, 192L, 15L, 15L) <class 'mxnet.gluon.nn.conv_layers.MaxPool2D'>\n",
      "4 (1L, 384L, 15L, 15L) <class 'mxnet.gluon.nn.conv_layers.Conv2D'>\n",
      "5 (1L, 256L, 15L, 15L) <class 'mxnet.gluon.nn.conv_layers.Conv2D'>\n",
      "6 (1L, 256L, 15L, 15L) <class 'mxnet.gluon.nn.conv_layers.Conv2D'>\n",
      "7 (1L, 256L, 7L, 7L) <class 'mxnet.gluon.nn.conv_layers.MaxPool2D'>\n"
     ]
    }
   ],
   "source": [
    "alexnet_conv = alexnet.features[:8]\n",
    "solve_data(data, alexnet_conv)"
   ]
  },
  {
   "cell_type": "markdown",
   "metadata": {},
   "source": [
    "## VGG"
   ]
  },
  {
   "cell_type": "code",
   "execution_count": 3,
   "metadata": {
    "ExecuteTime": {
     "end_time": "2017-12-11T18:51:28.761798Z",
     "start_time": "2017-12-11T18:51:28.026774Z"
    }
   },
   "outputs": [],
   "source": [
    "vgg11bnnet = model_zoo.vision.vgg11_bn(pretrained=True, ctx=ctx)\n",
    "net = gluon.nn.HybridSequential()\n",
    "net.add(*(vgg11bnnet.features[:]))"
   ]
  },
  {
   "cell_type": "code",
   "execution_count": 4,
   "metadata": {
    "ExecuteTime": {
     "end_time": "2017-12-11T18:51:35.015521Z",
     "start_time": "2017-12-11T18:51:34.952880Z"
    }
   },
   "outputs": [
    {
     "name": "stdout",
     "output_type": "stream",
     "text": [
      "0 (1L, 64L, 512L, 512L) <class 'mxnet.gluon.nn.conv_layers.Conv2D'>\n",
      "1 (1L, 64L, 512L, 512L) <class 'mxnet.gluon.nn.basic_layers.BatchNorm'>\n",
      "2 (1L, 64L, 512L, 512L) <class 'mxnet.gluon.nn.basic_layers.Activation'>\n",
      "3 (1L, 64L, 256L, 256L) <class 'mxnet.gluon.nn.conv_layers.MaxPool2D'>\n",
      "4 (1L, 128L, 256L, 256L) <class 'mxnet.gluon.nn.conv_layers.Conv2D'>\n",
      "5 (1L, 128L, 256L, 256L) <class 'mxnet.gluon.nn.basic_layers.BatchNorm'>\n",
      "6 (1L, 128L, 256L, 256L) <class 'mxnet.gluon.nn.basic_layers.Activation'>\n",
      "7 (1L, 128L, 128L, 128L) <class 'mxnet.gluon.nn.conv_layers.MaxPool2D'>\n",
      "8 (1L, 256L, 128L, 128L) <class 'mxnet.gluon.nn.conv_layers.Conv2D'>\n",
      "9 (1L, 256L, 128L, 128L) <class 'mxnet.gluon.nn.basic_layers.BatchNorm'>\n",
      "10 (1L, 256L, 128L, 128L) <class 'mxnet.gluon.nn.basic_layers.Activation'>\n",
      "11 (1L, 256L, 128L, 128L) <class 'mxnet.gluon.nn.conv_layers.Conv2D'>\n",
      "12 (1L, 256L, 128L, 128L) <class 'mxnet.gluon.nn.basic_layers.BatchNorm'>\n",
      "13 (1L, 256L, 128L, 128L) <class 'mxnet.gluon.nn.basic_layers.Activation'>\n",
      "14 (1L, 256L, 64L, 64L) <class 'mxnet.gluon.nn.conv_layers.MaxPool2D'>\n",
      "15 (1L, 512L, 64L, 64L) <class 'mxnet.gluon.nn.conv_layers.Conv2D'>\n",
      "16 (1L, 512L, 64L, 64L) <class 'mxnet.gluon.nn.basic_layers.BatchNorm'>\n",
      "17 (1L, 512L, 64L, 64L) <class 'mxnet.gluon.nn.basic_layers.Activation'>\n",
      "18 (1L, 512L, 64L, 64L) <class 'mxnet.gluon.nn.conv_layers.Conv2D'>\n",
      "19 (1L, 512L, 64L, 64L) <class 'mxnet.gluon.nn.basic_layers.BatchNorm'>\n",
      "20 (1L, 512L, 64L, 64L) <class 'mxnet.gluon.nn.basic_layers.Activation'>\n",
      "21 (1L, 512L, 32L, 32L) <class 'mxnet.gluon.nn.conv_layers.MaxPool2D'>\n",
      "22 (1L, 512L, 32L, 32L) <class 'mxnet.gluon.nn.conv_layers.Conv2D'>\n",
      "23 (1L, 512L, 32L, 32L) <class 'mxnet.gluon.nn.basic_layers.BatchNorm'>\n",
      "24 (1L, 512L, 32L, 32L) <class 'mxnet.gluon.nn.basic_layers.Activation'>\n",
      "25 (1L, 512L, 32L, 32L) <class 'mxnet.gluon.nn.conv_layers.Conv2D'>\n",
      "26 (1L, 512L, 32L, 32L) <class 'mxnet.gluon.nn.basic_layers.BatchNorm'>\n",
      "27 (1L, 512L, 32L, 32L) <class 'mxnet.gluon.nn.basic_layers.Activation'>\n",
      "28 (1L, 512L, 16L, 16L) <class 'mxnet.gluon.nn.conv_layers.MaxPool2D'>\n",
      "None\n"
     ]
    }
   ],
   "source": [
    "data = nd.random.uniform(shape=(1, 3, 512, 512)).as_in_context(ctx)\n",
    "print solve_data(data, net)"
   ]
  },
  {
   "cell_type": "markdown",
   "metadata": {
    "collapsed": true
   },
   "source": [
    "3."
   ]
  },
  {
   "cell_type": "code",
   "execution_count": 14,
   "metadata": {
    "ExecuteTime": {
     "end_time": "2017-12-09T05:29:46.184225Z",
     "start_time": "2017-12-09T05:29:46.164270Z"
    },
    "collapsed": true
   },
   "outputs": [],
   "source": [
    "mobilenet = model_zoo.vision.mobilenet1_0()\n",
    "net = gluon.nn.HybridSequential()\n",
    "net.add(*mobilenet.features[:82])\n",
    "net.initialize(ctx=ctx)"
   ]
  },
  {
   "cell_type": "code",
   "execution_count": 15,
   "metadata": {
    "ExecuteTime": {
     "end_time": "2017-12-09T05:29:50.189671Z",
     "start_time": "2017-12-09T05:29:49.497811Z"
    }
   },
   "outputs": [
    {
     "name": "stdout",
     "output_type": "stream",
     "text": [
      "0 (1L, 32L, 128L, 128L) <class 'mxnet.gluon.nn.conv_layers.Conv2D'>\n",
      "1 (1L, 32L, 128L, 128L) <class 'mxnet.gluon.nn.basic_layers.BatchNorm'>\n",
      "2 (1L, 32L, 128L, 128L) <class 'mxnet.gluon.nn.basic_layers.Activation'>\n",
      "3 (1L, 32L, 128L, 128L) <class 'mxnet.gluon.nn.conv_layers.Conv2D'>\n",
      "4 (1L, 32L, 128L, 128L) <class 'mxnet.gluon.nn.basic_layers.BatchNorm'>\n",
      "5 (1L, 32L, 128L, 128L) <class 'mxnet.gluon.nn.basic_layers.Activation'>\n",
      "6 (1L, 64L, 128L, 128L) <class 'mxnet.gluon.nn.conv_layers.Conv2D'>\n",
      "7 (1L, 64L, 128L, 128L) <class 'mxnet.gluon.nn.basic_layers.BatchNorm'>\n",
      "8 (1L, 64L, 128L, 128L) <class 'mxnet.gluon.nn.basic_layers.Activation'>\n",
      "9 (1L, 64L, 64L, 64L) <class 'mxnet.gluon.nn.conv_layers.Conv2D'>\n",
      "10 (1L, 64L, 64L, 64L) <class 'mxnet.gluon.nn.basic_layers.BatchNorm'>\n",
      "11 (1L, 64L, 64L, 64L) <class 'mxnet.gluon.nn.basic_layers.Activation'>\n",
      "12 (1L, 128L, 64L, 64L) <class 'mxnet.gluon.nn.conv_layers.Conv2D'>\n",
      "13 (1L, 128L, 64L, 64L) <class 'mxnet.gluon.nn.basic_layers.BatchNorm'>\n",
      "14 (1L, 128L, 64L, 64L) <class 'mxnet.gluon.nn.basic_layers.Activation'>\n",
      "15 (1L, 128L, 64L, 64L) <class 'mxnet.gluon.nn.conv_layers.Conv2D'>\n",
      "16 (1L, 128L, 64L, 64L) <class 'mxnet.gluon.nn.basic_layers.BatchNorm'>\n",
      "17 (1L, 128L, 64L, 64L) <class 'mxnet.gluon.nn.basic_layers.Activation'>\n",
      "18 (1L, 128L, 64L, 64L) <class 'mxnet.gluon.nn.conv_layers.Conv2D'>\n",
      "19 (1L, 128L, 64L, 64L) <class 'mxnet.gluon.nn.basic_layers.BatchNorm'>\n",
      "20 (1L, 128L, 64L, 64L) <class 'mxnet.gluon.nn.basic_layers.Activation'>\n",
      "21 (1L, 128L, 32L, 32L) <class 'mxnet.gluon.nn.conv_layers.Conv2D'>\n",
      "22 (1L, 128L, 32L, 32L) <class 'mxnet.gluon.nn.basic_layers.BatchNorm'>\n",
      "23 (1L, 128L, 32L, 32L) <class 'mxnet.gluon.nn.basic_layers.Activation'>\n",
      "24 (1L, 256L, 32L, 32L) <class 'mxnet.gluon.nn.conv_layers.Conv2D'>\n",
      "25 (1L, 256L, 32L, 32L) <class 'mxnet.gluon.nn.basic_layers.BatchNorm'>\n",
      "26 (1L, 256L, 32L, 32L) <class 'mxnet.gluon.nn.basic_layers.Activation'>\n",
      "27 (1L, 256L, 32L, 32L) <class 'mxnet.gluon.nn.conv_layers.Conv2D'>\n",
      "28 (1L, 256L, 32L, 32L) <class 'mxnet.gluon.nn.basic_layers.BatchNorm'>\n",
      "29 (1L, 256L, 32L, 32L) <class 'mxnet.gluon.nn.basic_layers.Activation'>\n",
      "30 (1L, 256L, 32L, 32L) <class 'mxnet.gluon.nn.conv_layers.Conv2D'>\n",
      "31 (1L, 256L, 32L, 32L) <class 'mxnet.gluon.nn.basic_layers.BatchNorm'>\n",
      "32 (1L, 256L, 32L, 32L) <class 'mxnet.gluon.nn.basic_layers.Activation'>\n",
      "33 (1L, 256L, 16L, 16L) <class 'mxnet.gluon.nn.conv_layers.Conv2D'>\n",
      "34 (1L, 256L, 16L, 16L) <class 'mxnet.gluon.nn.basic_layers.BatchNorm'>\n",
      "35 (1L, 256L, 16L, 16L) <class 'mxnet.gluon.nn.basic_layers.Activation'>\n",
      "36 (1L, 512L, 16L, 16L) <class 'mxnet.gluon.nn.conv_layers.Conv2D'>\n",
      "37 (1L, 512L, 16L, 16L) <class 'mxnet.gluon.nn.basic_layers.BatchNorm'>\n",
      "38 (1L, 512L, 16L, 16L) <class 'mxnet.gluon.nn.basic_layers.Activation'>\n",
      "39 (1L, 512L, 16L, 16L) <class 'mxnet.gluon.nn.conv_layers.Conv2D'>\n",
      "40 (1L, 512L, 16L, 16L) <class 'mxnet.gluon.nn.basic_layers.BatchNorm'>\n",
      "41 (1L, 512L, 16L, 16L) <class 'mxnet.gluon.nn.basic_layers.Activation'>\n",
      "42 (1L, 512L, 16L, 16L) <class 'mxnet.gluon.nn.conv_layers.Conv2D'>\n",
      "43 (1L, 512L, 16L, 16L) <class 'mxnet.gluon.nn.basic_layers.BatchNorm'>\n",
      "44 (1L, 512L, 16L, 16L) <class 'mxnet.gluon.nn.basic_layers.Activation'>\n",
      "45 (1L, 512L, 16L, 16L) <class 'mxnet.gluon.nn.conv_layers.Conv2D'>\n",
      "46 (1L, 512L, 16L, 16L) <class 'mxnet.gluon.nn.basic_layers.BatchNorm'>\n",
      "47 (1L, 512L, 16L, 16L) <class 'mxnet.gluon.nn.basic_layers.Activation'>\n",
      "48 (1L, 512L, 16L, 16L) <class 'mxnet.gluon.nn.conv_layers.Conv2D'>\n",
      "49 (1L, 512L, 16L, 16L) <class 'mxnet.gluon.nn.basic_layers.BatchNorm'>\n",
      "50 (1L, 512L, 16L, 16L) <class 'mxnet.gluon.nn.basic_layers.Activation'>\n",
      "51 (1L, 512L, 16L, 16L) <class 'mxnet.gluon.nn.conv_layers.Conv2D'>\n",
      "52 (1L, 512L, 16L, 16L) <class 'mxnet.gluon.nn.basic_layers.BatchNorm'>\n",
      "53 (1L, 512L, 16L, 16L) <class 'mxnet.gluon.nn.basic_layers.Activation'>\n",
      "54 (1L, 512L, 16L, 16L) <class 'mxnet.gluon.nn.conv_layers.Conv2D'>\n",
      "55 (1L, 512L, 16L, 16L) <class 'mxnet.gluon.nn.basic_layers.BatchNorm'>\n",
      "56 (1L, 512L, 16L, 16L) <class 'mxnet.gluon.nn.basic_layers.Activation'>\n",
      "57 (1L, 512L, 16L, 16L) <class 'mxnet.gluon.nn.conv_layers.Conv2D'>\n",
      "58 (1L, 512L, 16L, 16L) <class 'mxnet.gluon.nn.basic_layers.BatchNorm'>\n",
      "59 (1L, 512L, 16L, 16L) <class 'mxnet.gluon.nn.basic_layers.Activation'>\n",
      "60 (1L, 512L, 16L, 16L) <class 'mxnet.gluon.nn.conv_layers.Conv2D'>\n",
      "61 (1L, 512L, 16L, 16L) <class 'mxnet.gluon.nn.basic_layers.BatchNorm'>\n",
      "62 (1L, 512L, 16L, 16L) <class 'mxnet.gluon.nn.basic_layers.Activation'>\n",
      "63 (1L, 512L, 16L, 16L) <class 'mxnet.gluon.nn.conv_layers.Conv2D'>\n",
      "64 (1L, 512L, 16L, 16L) <class 'mxnet.gluon.nn.basic_layers.BatchNorm'>\n",
      "65 (1L, 512L, 16L, 16L) <class 'mxnet.gluon.nn.basic_layers.Activation'>\n",
      "66 (1L, 512L, 16L, 16L) <class 'mxnet.gluon.nn.conv_layers.Conv2D'>\n",
      "67 (1L, 512L, 16L, 16L) <class 'mxnet.gluon.nn.basic_layers.BatchNorm'>\n",
      "68 (1L, 512L, 16L, 16L) <class 'mxnet.gluon.nn.basic_layers.Activation'>\n",
      "69 (1L, 512L, 8L, 8L) <class 'mxnet.gluon.nn.conv_layers.Conv2D'>\n",
      "70 (1L, 512L, 8L, 8L) <class 'mxnet.gluon.nn.basic_layers.BatchNorm'>\n",
      "71 (1L, 512L, 8L, 8L) <class 'mxnet.gluon.nn.basic_layers.Activation'>\n",
      "72 (1L, 1024L, 8L, 8L) <class 'mxnet.gluon.nn.conv_layers.Conv2D'>\n",
      "73 (1L, 1024L, 8L, 8L) <class 'mxnet.gluon.nn.basic_layers.BatchNorm'>\n",
      "74 (1L, 1024L, 8L, 8L) <class 'mxnet.gluon.nn.basic_layers.Activation'>\n",
      "75 (1L, 1024L, 8L, 8L) <class 'mxnet.gluon.nn.conv_layers.Conv2D'>\n",
      "76 (1L, 1024L, 8L, 8L) <class 'mxnet.gluon.nn.basic_layers.BatchNorm'>\n",
      "77 (1L, 1024L, 8L, 8L) <class 'mxnet.gluon.nn.basic_layers.Activation'>\n",
      "78 (1L, 1024L, 8L, 8L) <class 'mxnet.gluon.nn.conv_layers.Conv2D'>\n",
      "79 (1L, 1024L, 8L, 8L) <class 'mxnet.gluon.nn.basic_layers.BatchNorm'>\n",
      "80 (1L, 1024L, 8L, 8L) <class 'mxnet.gluon.nn.basic_layers.Activation'>\n",
      "81 (1L, 1024L, 1L, 1L) <class 'mxnet.gluon.nn.conv_layers.GlobalAvgPool2D'>\n"
     ]
    }
   ],
   "source": [
    "solve_data(data, net)"
   ]
  },
  {
   "cell_type": "code",
   "execution_count": null,
   "metadata": {
    "collapsed": true
   },
   "outputs": [],
   "source": []
  }
 ],
 "metadata": {
  "kernelspec": {
   "display_name": "Python 2",
   "language": "python",
   "name": "python2"
  },
  "language_info": {
   "codemirror_mode": {
    "name": "ipython",
    "version": 2
   },
   "file_extension": ".py",
   "mimetype": "text/x-python",
   "name": "python",
   "nbconvert_exporter": "python",
   "pygments_lexer": "ipython2",
   "version": "2.7.12"
  }
 },
 "nbformat": 4,
 "nbformat_minor": 2
}
