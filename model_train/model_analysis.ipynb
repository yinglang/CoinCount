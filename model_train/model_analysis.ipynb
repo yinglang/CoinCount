{
 "cells": [
  {
   "cell_type": "code",
   "execution_count": 6,
   "metadata": {
    "ExecuteTime": {
     "end_time": "2017-12-08T08:42:30.278161Z",
     "start_time": "2017-12-08T08:42:30.255347Z"
    },
    "collapsed": true
   },
   "outputs": [],
   "source": [
    "import mxnet as mx\n",
    "from mxnet import gluon, nd\n",
    "from mxnet.gluon import model_zoo\n",
    "\n",
    "ctx=mx.gpu(0)\n",
    "\n",
    "data = nd.random.uniform(shape=(1, 3, 256, 256)).as_in_context(ctx)\n",
    "def solve_data(x, net):\n",
    "    for i, block in enumerate(net):\n",
    "        x = block(x)\n",
    "        print i, x.shape, type(block)"
   ]
  },
  {
   "cell_type": "markdown",
   "metadata": {},
   "source": [
    "## 1. Alexnet"
   ]
  },
  {
   "cell_type": "code",
   "execution_count": 6,
   "metadata": {
    "ExecuteTime": {
     "end_time": "2017-12-08T08:33:33.100709Z",
     "start_time": "2017-12-08T08:33:32.762679Z"
    }
   },
   "outputs": [],
   "source": [
    "# 224 defualt\n",
    "alexnet = model_zoo.vision.alexnet(pretrained=True, ctx=ctx)\n",
    "net = gluon.nn.HybridSequential()\n",
    "net.add(*(alexnet.features[:8]))"
   ]
  },
  {
   "cell_type": "code",
   "execution_count": 7,
   "metadata": {
    "ExecuteTime": {
     "end_time": "2017-12-08T08:33:33.643180Z",
     "start_time": "2017-12-08T08:33:33.318973Z"
    }
   },
   "outputs": [
    {
     "name": "stdout",
     "output_type": "stream",
     "text": [
      "alexnet:--------\n",
      "AlexNet(\n",
      "  (features): HybridSequential(\n",
      "    (0): Conv2D(64, kernel_size=(11, 11), stride=(4, 4), padding=(2, 2))\n",
      "    (1): MaxPool2D(size=(3, 3), stride=(2, 2), padding=(0, 0), ceil_mode=False)\n",
      "    (2): Conv2D(192, kernel_size=(5, 5), stride=(1, 1), padding=(2, 2))\n",
      "    (3): MaxPool2D(size=(3, 3), stride=(2, 2), padding=(0, 0), ceil_mode=False)\n",
      "    (4): Conv2D(384, kernel_size=(3, 3), stride=(1, 1), padding=(1, 1))\n",
      "    (5): Conv2D(256, kernel_size=(3, 3), stride=(1, 1), padding=(1, 1))\n",
      "    (6): Conv2D(256, kernel_size=(3, 3), stride=(1, 1), padding=(1, 1))\n",
      "    (7): MaxPool2D(size=(3, 3), stride=(2, 2), padding=(0, 0), ceil_mode=False)\n",
      "    (8): Flatten\n",
      "  )\n",
      "  (classifier): HybridSequential(\n",
      "    (0): Dense(4096, Activation(relu))\n",
      "    (1): Dropout(p = 0.5)\n",
      "    (2): Dense(4096, Activation(relu))\n",
      "    (3): Dropout(p = 0.5)\n",
      "    (4): Dense(1000, linear)\n",
      "  )\n",
      ")\n",
      "net:---------\n",
      "HybridSequential(\n",
      "  (0): Conv2D(64, kernel_size=(11, 11), stride=(4, 4), padding=(2, 2))\n",
      "  (1): MaxPool2D(size=(3, 3), stride=(2, 2), padding=(0, 0), ceil_mode=False)\n",
      "  (2): Conv2D(192, kernel_size=(5, 5), stride=(1, 1), padding=(2, 2))\n",
      "  (3): MaxPool2D(size=(3, 3), stride=(2, 2), padding=(0, 0), ceil_mode=False)\n",
      "  (4): Conv2D(384, kernel_size=(3, 3), stride=(1, 1), padding=(1, 1))\n",
      "  (5): Conv2D(256, kernel_size=(3, 3), stride=(1, 1), padding=(1, 1))\n",
      "  (6): Conv2D(256, kernel_size=(3, 3), stride=(1, 1), padding=(1, 1))\n",
      "  (7): MaxPool2D(size=(3, 3), stride=(2, 2), padding=(0, 0), ceil_mode=False)\n",
      ")\n",
      "(1L, 256L, 7L, 7L)\n"
     ]
    }
   ],
   "source": [
    "print \"alexnet:--------\"\n",
    "print alexnet\n",
    "print \"net:---------\"\n",
    "print net\n",
    "\n",
    "data = net(nd.random.uniform(shape=(1, 3, 256, 256)).as_in_context(ctx))\n",
    "print data.shape"
   ]
  },
  {
   "cell_type": "code",
   "execution_count": 27,
   "metadata": {
    "ExecuteTime": {
     "end_time": "2017-12-08T08:41:32.306640Z",
     "start_time": "2017-12-08T08:41:32.293866Z"
    }
   },
   "outputs": [
    {
     "name": "stdout",
     "output_type": "stream",
     "text": [
      "0 (1L, 64L, 63L, 63L) <class 'mxnet.gluon.nn.conv_layers.Conv2D'>\n",
      "1 (1L, 64L, 31L, 31L) <class 'mxnet.gluon.nn.conv_layers.MaxPool2D'>\n",
      "2 (1L, 192L, 31L, 31L) <class 'mxnet.gluon.nn.conv_layers.Conv2D'>\n",
      "3 (1L, 192L, 15L, 15L) <class 'mxnet.gluon.nn.conv_layers.MaxPool2D'>\n",
      "4 (1L, 384L, 15L, 15L) <class 'mxnet.gluon.nn.conv_layers.Conv2D'>\n",
      "5 (1L, 256L, 15L, 15L) <class 'mxnet.gluon.nn.conv_layers.Conv2D'>\n",
      "6 (1L, 256L, 15L, 15L) <class 'mxnet.gluon.nn.conv_layers.Conv2D'>\n",
      "7 (1L, 256L, 7L, 7L) <class 'mxnet.gluon.nn.conv_layers.MaxPool2D'>\n"
     ]
    }
   ],
   "source": [
    "alexnet_conv = alexnet.features[:8]\n",
    "solve_data(data, alexnet_conv)"
   ]
  },
  {
   "cell_type": "markdown",
   "metadata": {},
   "source": [
    "## VGG"
   ]
  },
  {
   "cell_type": "code",
   "execution_count": 3,
   "metadata": {
    "ExecuteTime": {
     "end_time": "2017-12-08T08:42:05.670644Z",
     "start_time": "2017-12-08T08:42:01.596869Z"
    }
   },
   "outputs": [],
   "source": [
    "vgg11bnnet = model_zoo.vision.vgg11_bn(pretrained=True, ctx=ctx)\n",
    "net = gluon.nn.HybridSequential()\n",
    "net.add(*(vgg11bnnet.features[:29]))"
   ]
  },
  {
   "cell_type": "code",
   "execution_count": 7,
   "metadata": {
    "ExecuteTime": {
     "end_time": "2017-12-08T08:42:35.941606Z",
     "start_time": "2017-12-08T08:42:34.559905Z"
    }
   },
   "outputs": [
    {
     "name": "stdout",
     "output_type": "stream",
     "text": [
      "0 (1L, 64L, 256L, 256L) <class 'mxnet.gluon.nn.conv_layers.Conv2D'>\n",
      "1 (1L, 64L, 256L, 256L) <class 'mxnet.gluon.nn.basic_layers.BatchNorm'>\n",
      "2 (1L, 64L, 256L, 256L) <class 'mxnet.gluon.nn.basic_layers.Activation'>\n",
      "3 (1L, 64L, 128L, 128L) <class 'mxnet.gluon.nn.conv_layers.MaxPool2D'>\n",
      "4 (1L, 128L, 128L, 128L) <class 'mxnet.gluon.nn.conv_layers.Conv2D'>\n",
      "5 (1L, 128L, 128L, 128L) <class 'mxnet.gluon.nn.basic_layers.BatchNorm'>\n",
      "6 (1L, 128L, 128L, 128L) <class 'mxnet.gluon.nn.basic_layers.Activation'>\n",
      "7 (1L, 128L, 64L, 64L) <class 'mxnet.gluon.nn.conv_layers.MaxPool2D'>\n",
      "8 (1L, 256L, 64L, 64L) <class 'mxnet.gluon.nn.conv_layers.Conv2D'>\n",
      "9 (1L, 256L, 64L, 64L) <class 'mxnet.gluon.nn.basic_layers.BatchNorm'>\n",
      "10 (1L, 256L, 64L, 64L) <class 'mxnet.gluon.nn.basic_layers.Activation'>\n",
      "11 (1L, 256L, 64L, 64L) <class 'mxnet.gluon.nn.conv_layers.Conv2D'>\n",
      "12 (1L, 256L, 64L, 64L) <class 'mxnet.gluon.nn.basic_layers.BatchNorm'>\n",
      "13 (1L, 256L, 64L, 64L) <class 'mxnet.gluon.nn.basic_layers.Activation'>\n",
      "14 (1L, 256L, 32L, 32L) <class 'mxnet.gluon.nn.conv_layers.MaxPool2D'>\n",
      "15 (1L, 512L, 32L, 32L) <class 'mxnet.gluon.nn.conv_layers.Conv2D'>\n",
      "16 (1L, 512L, 32L, 32L) <class 'mxnet.gluon.nn.basic_layers.BatchNorm'>\n",
      "17 (1L, 512L, 32L, 32L) <class 'mxnet.gluon.nn.basic_layers.Activation'>\n",
      "18 (1L, 512L, 32L, 32L) <class 'mxnet.gluon.nn.conv_layers.Conv2D'>\n",
      "19 (1L, 512L, 32L, 32L) <class 'mxnet.gluon.nn.basic_layers.BatchNorm'>\n",
      "20 (1L, 512L, 32L, 32L) <class 'mxnet.gluon.nn.basic_layers.Activation'>\n",
      "21 (1L, 512L, 16L, 16L) <class 'mxnet.gluon.nn.conv_layers.MaxPool2D'>\n",
      "22 (1L, 512L, 16L, 16L) <class 'mxnet.gluon.nn.conv_layers.Conv2D'>\n",
      "23 (1L, 512L, 16L, 16L) <class 'mxnet.gluon.nn.basic_layers.BatchNorm'>\n",
      "24 (1L, 512L, 16L, 16L) <class 'mxnet.gluon.nn.basic_layers.Activation'>\n",
      "25 (1L, 512L, 16L, 16L) <class 'mxnet.gluon.nn.conv_layers.Conv2D'>\n",
      "26 (1L, 512L, 16L, 16L) <class 'mxnet.gluon.nn.basic_layers.BatchNorm'>\n",
      "27 (1L, 512L, 16L, 16L) <class 'mxnet.gluon.nn.basic_layers.Activation'>\n",
      "28 (1L, 512L, 8L, 8L) <class 'mxnet.gluon.nn.conv_layers.MaxPool2D'>\n",
      "None\n"
     ]
    }
   ],
   "source": [
    "print solve_data(data, net)"
   ]
  },
  {
   "cell_type": "code",
   "execution_count": null,
   "metadata": {
    "collapsed": true
   },
   "outputs": [],
   "source": []
  }
 ],
 "metadata": {
  "kernelspec": {
   "display_name": "Python 2",
   "language": "python",
   "name": "python2"
  },
  "language_info": {
   "codemirror_mode": {
    "name": "ipython",
    "version": 2
   },
   "file_extension": ".py",
   "mimetype": "text/x-python",
   "name": "python",
   "nbconvert_exporter": "python",
   "pygments_lexer": "ipython2",
   "version": "2.7.12"
  }
 },
 "nbformat": 4,
 "nbformat_minor": 2
}
