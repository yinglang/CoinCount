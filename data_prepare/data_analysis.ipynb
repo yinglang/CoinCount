{
 "cells": [
  {
   "cell_type": "code",
   "execution_count": 1,
   "metadata": {
    "ExecuteTime": {
     "end_time": "2017-12-08T04:45:19.832737Z",
     "start_time": "2017-12-08T04:45:19.267940Z"
    },
    "collapsed": true
   },
   "outputs": [],
   "source": [
    "import os\n",
    "import matplotlib.pyplot as plt\n",
    "import matplotlib as mpl\n",
    "mpl.rcParams['figure.dpi'] = 120\n",
    "from mxnet import image\n",
    "import sys\n",
    "sys.path.append(\"../\")\n",
    "from utils import utils\n",
    "from utils.utils import mkdir_if_not_exist, list_image_det, resize_imageset, cal_mean, cal_mean_std, show_image_SDL_annotation\n",
    "from PIL import Image\n",
    "\n",
    "# dataset root dir\n",
    "os.environ[\"coins_root\"] = coins_root = \"../dataset/\"\n",
    "os.environ[\"sdl_root\"] = sdl_root = coins_root + \"sdl-coins/\"\n",
    "os.environ[\"swiss_root\"] = swiss_root = coins_root + \"swiss-coins/\"\n",
    "\n",
    "# img2rec python script\n",
    "# python3_bin_dir = \"/root/Util/anaconda3/bin\"\n",
    "#os.environ[\"im2rec\"] = \"python /root/Util/miniconda/lib/python2.7/site-packages/mxnet/tools/im2rec.py\"\n",
    "os.environ[\"im2rec\"] = \"python /usr/local/lib/python2.7/dist-packages/mxnet/tools/im2rec.py\"\n",
    "\n",
    "resize = (256, 256)\n",
    "rec_dir = sdl_root + \"rec/\""
   ]
  },
  {
   "cell_type": "code",
   "execution_count": 2,
   "metadata": {
    "ExecuteTime": {
     "end_time": "2017-12-08T04:45:19.842426Z",
     "start_time": "2017-12-08T04:45:19.834104Z"
    }
   },
   "outputs": [],
   "source": [
    "from mxnet import image\n",
    "train_data_rec = image.ImageDetIter(batch_size=16, data_shape=(3, resize[0], resize[1]),  # load rec in memory\n",
    "                path_imgrec=rec_dir+\"sdl_train.rec\")"
   ]
  },
  {
   "cell_type": "markdown",
   "metadata": {},
   "source": [
    "## 1. annotation box size analysis"
   ]
  },
  {
   "cell_type": "code",
   "execution_count": 5,
   "metadata": {
    "ExecuteTime": {
     "end_time": "2017-12-08T04:45:40.442778Z",
     "start_time": "2017-12-08T04:45:40.276491Z"
    }
   },
   "outputs": [
    {
     "name": "stdout",
     "output_type": "stream",
     "text": [
      "(0.29389880952380953, 0.44742063492063494, 0.29389880952380953, 0.4556878306878307) is not valid box in ../dataset/sdl-coins//labels/19.txt, just ignore.\n"
     ]
    }
   ],
   "source": [
    "from utils.utils import turn_SDL_to_SDL2, get_all_boxes_from_annotations_SDL2    \n",
    "turn_SDL_to_SDL2(sdl_root + \"/labels\", sdl_root + \"/images\", sdl_root + \"/labels2\")\n",
    "boxes = get_all_boxes_from_annotations_SDL2(sdl_root + \"/labels2\")     "
   ]
  },
  {
   "cell_type": "code",
   "execution_count": 11,
   "metadata": {
    "ExecuteTime": {
     "end_time": "2017-12-08T04:47:48.007645Z",
     "start_time": "2017-12-08T04:47:48.001302Z"
    }
   },
   "outputs": [
    {
     "name": "stdout",
     "output_type": "stream",
     "text": [
      "0.0393664825423 0.135822001214\n",
      "0.0521905207901 0.179209806528\n"
     ]
    }
   ],
   "source": [
    "import numpy as np\n",
    "boxes = np.array(boxes)\n",
    "bw = boxes[:, 2] - boxes[:, 0]\n",
    "bh = boxes[:, 3] - boxes[:, 1]\n",
    "print np.std(bw), np.mean(bw)\n",
    "print np.std(bh), np.mean(bh)"
   ]
  },
  {
   "cell_type": "code",
   "execution_count": null,
   "metadata": {
    "collapsed": true
   },
   "outputs": [],
   "source": []
  }
 ],
 "metadata": {
  "kernelspec": {
   "display_name": "Python 2",
   "language": "python",
   "name": "python2"
  },
  "language_info": {
   "codemirror_mode": {
    "name": "ipython",
    "version": 2
   },
   "file_extension": ".py",
   "mimetype": "text/x-python",
   "name": "python",
   "nbconvert_exporter": "python",
   "pygments_lexer": "ipython2",
   "version": "2.7.12"
  }
 },
 "nbformat": 4,
 "nbformat_minor": 2
}
