{
 "cells": [
  {
   "cell_type": "markdown",
   "metadata": {
    "collapsed": true
   },
   "source": [
    "### 0. import some package and set global dataset dir and environ"
   ]
  },
  {
   "cell_type": "code",
   "execution_count": 1,
   "metadata": {
    "collapsed": true
   },
   "outputs": [],
   "source": [
    "import os\n",
    "\n",
    "# dataset root dir\n",
    "coins_root = \"../dataset/\"\n",
    "swiss_root = coins_root + \"swiss-coins/\"\n",
    "os.environ[\"coins_root\"] = coins_root\n",
    "os.environ[\"swiss_root\"] = swiss_root\n",
    "\n",
    "rec_dir = swiss_root + \"/rec\"\n",
    "\n",
    "# img2rec python script\n",
    "# python3_bin_dir = \"/root/Util/anaconda3/bin\"\n",
    "os.environ[\"im2rec\"] = \"python /root/Util/miniconda/lib/python2.7/site-packages/mxnet/tools/im2rec.py\"\n"
   ]
  },
  {
   "cell_type": "markdown",
   "metadata": {},
   "source": [
    "### 1. unzip data and reorgnize flolder"
   ]
  },
  {
   "cell_type": "code",
   "execution_count": 2,
   "metadata": {
    "collapsed": false
   },
   "outputs": [
    {
     "name": "stdout",
     "output_type": "stream",
     "text": [
      "Archive:  ../dataset//swiss-coins.zip\n",
      "mkdir: cannot create directory '../dataset/swiss-coins//train': File exists\n",
      "mv: cannot stat '../dataset/swiss-coins//*r': No such file or directory\n",
      "mv: cannot stat '../dataset/swiss-coins//*p': No such file or directory\n"
     ]
    }
   ],
   "source": [
    "! unzip -f $coins_root/swiss-coins.zip -d $swiss_root\n",
    "! mkdir $swiss_root/train\n",
    "! mv $swiss_root/*r $swiss_root/*p $swiss_root/train"
   ]
  },
  {
   "cell_type": "markdown",
   "metadata": {},
   "source": [
    "### 2. convert image to rec"
   ]
  },
  {
   "cell_type": "code",
   "execution_count": 8,
   "metadata": {
    "collapsed": false
   },
   "outputs": [
    {
     "name": "stdout",
     "output_type": "stream",
     "text": [
      "/root/Util/anaconda3/lib/python3.6/site-packages/urllib3/contrib/pyopenssl.py:46: DeprecationWarning: OpenSSL.rand is deprecated - you should use os.urandom instead\n",
      "  import OpenSSL.SSL\n",
      "/root/Util/anaconda3/lib/python3.6/site-packages/urllib3/contrib/pyopenssl.py:46: DeprecationWarning: OpenSSL.rand is deprecated - you should use os.urandom instead\n",
      "  import OpenSSL.SSL\n",
      "Creating .rec file from /root/Workspace/github/CionCount/dataset/swiss-coins/rec/swiss_val.lst in /root/Workspace/github/CionCount/dataset/swiss-coins/rec\n",
      "Creating .rec file from /root/Workspace/github/CionCount/dataset/swiss-coins/rec/swiss_train.lst in /root/Workspace/github/CionCount/dataset/swiss-coins/rec\n"
     ]
    }
   ],
   "source": [
    "def mkdir_if_not_exist(dirs):\n",
    "    if not os.path.exists(dirs):\n",
    "        os.makedirs(dirs)\n",
    "def add_value(key, value):\n",
    "    os.environ[key] = value + \":\" + os.environ[key]\n",
    "\n",
    "def pop_value(key):\n",
    "    idx = os.environ[key].find(\":\")\n",
    "    if idx == -1:\n",
    "        return None\n",
    "    else:\n",
    "        v = os.environ[key][:idx]\n",
    "        os.environ[key] = os.environ[key][idx+1:]\n",
    "        return v\n",
    "\n",
    "#add_value(\"PATH\", python3_bin_dir)\n",
    "    \n",
    "mkdir_if_not_exist(rec_dir)\n",
    "! $im2rec --list True --recursive True --train-ratio 0.9 ${swiss_root}/rec/swiss $swiss_root/train\n",
    "! $im2rec --num-thread 10 --pass-through 1 ${swiss_root}/rec/swiss $swiss_root/train\n",
    "\n",
    "#pop_value(\"PATH\")"
   ]
  },
  {
   "cell_type": "code",
   "execution_count": null,
   "metadata": {
    "collapsed": true
   },
   "outputs": [],
   "source": []
  }
 ],
 "metadata": {
  "kernelspec": {
   "display_name": "Python 2",
   "language": "python",
   "name": "python2"
  },
  "language_info": {
   "codemirror_mode": {
    "name": "ipython",
    "version": 2
   },
   "file_extension": ".py",
   "mimetype": "text/x-python",
   "name": "python",
   "nbconvert_exporter": "python",
   "pygments_lexer": "ipython2",
   "version": "2.7.12"
  },
  "ssap_exp_config": {
   "error_alert": "Error Occurs!",
   "initial": [],
   "max_iteration": 1000,
   "recv_id": "",
   "running": [],
   "summary": [],
   "version": "1.1.1"
  }
 },
 "nbformat": 4,
 "nbformat_minor": 0
}
