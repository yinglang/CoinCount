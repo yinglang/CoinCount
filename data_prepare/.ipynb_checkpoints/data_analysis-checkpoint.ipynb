{
 "cells": [
  {
   "cell_type": "code",
   "execution_count": 2,
   "metadata": {
    "ExecuteTime": {
     "end_time": "2017-12-11T17:46:49.377485Z",
     "start_time": "2017-12-11T17:46:38.910881Z"
    },
    "collapsed": true
   },
   "outputs": [],
   "source": [
    "import os\n",
    "import matplotlib.pyplot as plt\n",
    "import matplotlib as mpl\n",
    "mpl.rcParams['figure.dpi'] = 120\n",
    "from mxnet import image\n",
    "import sys\n",
    "sys.path.append(\"../\")\n",
    "from utils import utils\n",
    "from utils.utils import mkdir_if_not_exist, list_image_det, resize_imageset, cal_mean, cal_mean_std, show_image_SDL_annotation\n",
    "from PIL import Image\n",
    "\n",
    "# dataset root dir\n",
    "os.environ[\"coins_root\"] = coins_root = \"../dataset/\"\n",
    "os.environ[\"sdl_root\"] = sdl_root = coins_root + \"sdl-coins/\"\n",
    "os.environ[\"swiss_root\"] = swiss_root = coins_root + \"swiss-coins/\"\n",
    "\n",
    "# img2rec python script\n",
    "# python3_bin_dir = \"/root/Util/anaconda3/bin\"\n",
    "#os.environ[\"im2rec\"] = \"python /root/Util/miniconda/lib/python2.7/site-packages/mxnet/tools/im2rec.py\"\n",
    "os.environ[\"im2rec\"] = \"python /usr/local/lib/python2.7/dist-packages/mxnet/tools/im2rec.py\"\n",
    "\n",
    "resize = (256, 256)\n",
    "rec_dir = sdl_root + \"rec/\""
   ]
  },
  {
   "cell_type": "code",
   "execution_count": 2,
   "metadata": {
    "ExecuteTime": {
     "end_time": "2017-12-08T04:45:19.842426Z",
     "start_time": "2017-12-08T04:45:19.834104Z"
    },
    "collapsed": true
   },
   "outputs": [],
   "source": [
    "from mxnet import image\n",
    "train_data_rec = image.ImageDetIter(batch_size=16, data_shape=(3, resize[0], resize[1]),  # load rec in memory\n",
    "                path_imgrec=rec_dir+\"sdl_train.rec\")"
   ]
  },
  {
   "cell_type": "markdown",
   "metadata": {},
   "source": [
    "## 1. annotation box size analysis"
   ]
  },
  {
   "cell_type": "code",
   "execution_count": 3,
   "metadata": {
    "ExecuteTime": {
     "end_time": "2017-12-11T17:46:50.554431Z",
     "start_time": "2017-12-11T17:46:49.378770Z"
    }
   },
   "outputs": [
    {
     "name": "stdout",
     "output_type": "stream",
     "text": [
      "(0.29389880952380953, 0.44742063492063494, 0.29389880952380953, 0.4556878306878307) is not valid box in ../dataset/sdl-coins//labels/19.txt, just ignore.\n"
     ]
    }
   ],
   "source": [
    "from utils.utils import turn_SDL_to_SDL2, get_all_boxes_from_annotations_SDL2    \n",
    "turn_SDL_to_SDL2(sdl_root + \"/labels\", sdl_root + \"/images\", sdl_root + \"/labels2\")\n",
    "boxes = get_all_boxes_from_annotations_SDL2(sdl_root + \"/labels2\")     "
   ]
  },
  {
   "cell_type": "code",
   "execution_count": 4,
   "metadata": {
    "ExecuteTime": {
     "end_time": "2017-12-11T17:46:58.048464Z",
     "start_time": "2017-12-11T17:46:58.044418Z"
    }
   },
   "outputs": [
    {
     "name": "stdout",
     "output_type": "stream",
     "text": [
      "0.0393664825423 0.135822001214\n",
      "0.0521905207901 0.179209806528\n"
     ]
    }
   ],
   "source": [
    "import numpy as np\n",
    "boxes = np.array(boxes)\n",
    "bw = boxes[:, 2] - boxes[:, 0]\n",
    "bh = boxes[:, 3] - boxes[:, 1]\n",
    "print np.std(bw), np.mean(bw)\n",
    "print np.std(bh), np.mean(bh)"
   ]
  },
  {
   "cell_type": "code",
   "execution_count": 6,
   "metadata": {
    "ExecuteTime": {
     "end_time": "2017-12-11T17:47:39.853817Z",
     "start_time": "2017-12-11T17:47:39.668770Z"
    }
   },
   "outputs": [
    {
     "data": {
      "image/png": "[encoded data removed]",
      "text/plain": [
       "<matplotlib.figure.Figure at 0x7f592f7ccb90>"
      ]
     },
     "metadata": {},
     "output_type": "display_data"
    }
   ],
   "source": [
    "plt.subplot(121)\n",
    "plt.hist(bw)\n",
    "plt.subplot(122)\n",
    "plt.hist(bh)\n",
    "plt.show()"
   ]
  },
  {
   "cell_type": "code",
   "execution_count": 11,
   "metadata": {
    "ExecuteTime": {
     "end_time": "2017-12-11T18:15:41.814596Z",
     "start_time": "2017-12-11T18:15:41.805354Z"
    }
   },
   "outputs": [
    {
     "name": "stdout",
     "output_type": "stream",
     "text": [
      "[ 0.12013393  0.1514969   0.18624024  0.30103625]\n",
      "[ 0.10416667  0.13051471  0.1629902   0.26378676]\n",
      "[ 0.13756614  0.17361111  0.21364379  0.34354575]\n"
     ]
    }
   ],
   "source": [
    "def find_seq(b, num=4):\n",
    "    b = np.sort(b)\n",
    "    N = b.shape[0]\n",
    "    idx = np.array(range(N/num, N, N/num))\n",
    "    return b[idx]\n",
    "        \n",
    "bl = np.sqrt(bw * bh)\n",
    "print find_seq(bl)\n",
    "print find_seq(bw)\n",
    "print find_seq(bh)\n",
    "    "
   ]
  },
  {
   "cell_type": "code",
   "execution_count": null,
   "metadata": {
    "collapsed": true
   },
   "outputs": [],
   "source": []
  }
 ],
 "metadata": {
  "kernelspec": {
   "display_name": "Python 2",
   "language": "python",
   "name": "python2"
  },
  "language_info": {
   "codemirror_mode": {
    "name": "ipython",
    "version": 2
   },
   "file_extension": ".py",
   "mimetype": "text/x-python",
   "name": "python",
   "nbconvert_exporter": "python",
   "pygments_lexer": "ipython2",
   "version": "2.7.12"
  }
 },
 "nbformat": 4,
 "nbformat_minor": 2
}
